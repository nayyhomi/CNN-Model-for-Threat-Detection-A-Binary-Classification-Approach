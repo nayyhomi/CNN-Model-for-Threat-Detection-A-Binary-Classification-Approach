{
  "cells": [
    {
      "cell_type": "code",
      "execution_count": null,
      "metadata": {
        "id": "L4afPF7IDByk"
      },
      "outputs": [],
      "source": [
        "import numpy as np\n",
        "import pandas as pd\n",
        "\n",
        "import os   #to walk through the '/kaggle/input' directory and print out the names of all the files located in that directory.\n",
        "#  This is done using a 'for' loop to iterate through each directory, filename, and subdirectory.\n",
        "for dirname, _, filenames in os.walk('/kaggle/input'):\n",
        "    for filename in filenames:\n",
        "        print(os.path.join(dirname, filename))\n",
        "\n",
        "# Any results written to the current directory are saved as output."
      ]
    },
    {
      "cell_type": "code",
      "execution_count": null,
      "metadata": {
        "colab": {
          "base_uri": "https://localhost:8080/"
        },
        "id": "ngwpOmBfS9hX",
        "outputId": "277173f1-0944-429d-d008-70caf24a5bd6"
      },
      "outputs": [
        {
          "output_type": "stream",
          "name": "stdout",
          "text": [
            "Mounted at /content/drive\n"
          ]
        }
      ],
      "source": [
        "from google.colab import drive\n",
        "drive.mount('/content/drive')\n"
      ]
    },
    {
      "cell_type": "code",
      "execution_count": null,
      "metadata": {
        "colab": {
          "base_uri": "https://localhost:8080/"
        },
        "id": "ByNHhAvzWNsp",
        "outputId": "3a54414d-53d6-4240-a50a-58537a728983"
      },
      "outputs": [
        {
          "output_type": "stream",
          "name": "stdout",
          "text": [
            "Dataset extracted to CIC-IDS2017\n"
          ]
        }
      ],
      "source": [
        "import zipfile\n",
        "import os\n",
        "\n",
        "\n",
        "zip_path = \"/content/drive/MyDrive/CIC-IDS2017.zip\"\n",
        "extract_path = \"CIC-IDS2017\"\n",
        "\n",
        "os.makedirs(extract_path, exist_ok=True)\n",
        "\n",
        "with zipfile.ZipFile(zip_path, 'r') as zip_ref:\n",
        "    zip_ref.extractall(extract_path)\n",
        "\n",
        "print(f\"Dataset extracted to {extract_path}\")"
      ]
    },
    {
      "cell_type": "code",
      "execution_count": null,
      "metadata": {
        "colab": {
          "base_uri": "https://localhost:8080/"
        },
        "id": "ShtxKzxIRUZh",
        "outputId": "f8425edf-0de0-442c-b43c-d309e90bb8e2"
      },
      "outputs": [
        {
          "output_type": "stream",
          "name": "stdout",
          "text": [
            "📂 Extracted files: ['Bruteforce-Tuesday-no-metadata.parquet', 'Botnet-Friday-no-metadata.parquet', 'WebAttacks-Thursday-no-metadata.parquet', 'Portscan-Friday-no-metadata.parquet', 'Infiltration-Thursday-no-metadata.parquet', 'DoS-Wednesday-no-metadata.parquet', 'Benign-Monday-no-metadata.parquet', 'DDoS-Friday-no-metadata.parquet']\n"
          ]
        }
      ],
      "source": [
        "dataset_folder = \"CIC-IDS2017\"\n",
        "print(\"📂 Extracted files:\", os.listdir(dataset_folder))"
      ]
    },
    {
      "cell_type": "code",
      "execution_count": null,
      "metadata": {
        "colab": {
          "base_uri": "https://localhost:8080/"
        },
        "id": "KiPXajJhRbmM",
        "outputId": "8b26c777-289f-43f0-d3ec-81c5303dfe56"
      },
      "outputs": [
        {
          "output_type": "stream",
          "name": "stdout",
          "text": [
            "📂 List of folders in the current directory:\n",
            "['.config', 'drive', 'CIC-IDS2017', 'sample_data']\n"
          ]
        }
      ],
      "source": [
        "import os\n",
        "\n",
        "print(\"📂 List of folders in the current directory:\")\n",
        "print(os.listdir(\"/content/\"))  # Check the main directory"
      ]
    },
    {
      "cell_type": "code",
      "execution_count": null,
      "metadata": {
        "colab": {
          "base_uri": "https://localhost:8080/"
        },
        "id": "wVzZ_24RHkLs",
        "outputId": "dea8a2f7-6520-4444-9fa0-22dcb4b7f429"
      },
      "outputs": [
        {
          "output_type": "stream",
          "name": "stdout",
          "text": [
            "📂 Loading: CIC-IDS2017/Bruteforce-Tuesday-no-metadata.parquet\n",
            "📂 Loading: CIC-IDS2017/Botnet-Friday-no-metadata.parquet\n",
            "📂 Loading: CIC-IDS2017/WebAttacks-Thursday-no-metadata.parquet\n",
            "📂 Loading: CIC-IDS2017/Portscan-Friday-no-metadata.parquet\n",
            "📂 Loading: CIC-IDS2017/Infiltration-Thursday-no-metadata.parquet\n",
            "📂 Loading: CIC-IDS2017/DoS-Wednesday-no-metadata.parquet\n",
            "📂 Loading: CIC-IDS2017/Benign-Monday-no-metadata.parquet\n",
            "📂 Loading: CIC-IDS2017/DDoS-Friday-no-metadata.parquet\n",
            "✅ All datasets merged successfully!\n",
            "   Protocol  Flow Duration  Total Fwd Packets  Total Backward Packets  \\\n",
            "0         6            640                  7                       4   \n",
            "1         6            900                  9                       4   \n",
            "2         6           1205                  7                       4   \n",
            "3         6            511                  7                       4   \n",
            "4         6            773                  9                       4   \n",
            "\n",
            "   Fwd Packets Length Total  Bwd Packets Length Total  Fwd Packet Length Max  \\\n",
            "0                       440                       358                    220   \n",
            "1                       600                      2944                    300   \n",
            "2                      2776                      2830                   1388   \n",
            "3                       452                       370                    226   \n",
            "4                       612                      2944                    306   \n",
            "\n",
            "   Fwd Packet Length Min  Fwd Packet Length Mean  Fwd Packet Length Std  ...  \\\n",
            "0                      0               62.857143             107.349007  ...   \n",
            "1                      0               66.666664             132.287567  ...   \n",
            "2                      0              396.571442             677.274658  ...   \n",
            "3                      0               64.571426             110.276711  ...   \n",
            "4                      0               68.000000             134.933319  ...   \n",
            "\n",
            "   Fwd Seg Size Min  Active Mean  Active Std  Active Max  Active Min  \\\n",
            "0                20          0.0         0.0           0           0   \n",
            "1                20          0.0         0.0           0           0   \n",
            "2                20          0.0         0.0           0           0   \n",
            "3                20          0.0         0.0           0           0   \n",
            "4                20          0.0         0.0           0           0   \n",
            "\n",
            "   Idle Mean  Idle Std  Idle Max  Idle Min   Label  \n",
            "0        0.0       0.0         0         0  Benign  \n",
            "1        0.0       0.0         0         0  Benign  \n",
            "2        0.0       0.0         0         0  Benign  \n",
            "3        0.0       0.0         0         0  Benign  \n",
            "4        0.0       0.0         0         0  Benign  \n",
            "\n",
            "[5 rows x 78 columns]\n"
          ]
        }
      ],
      "source": [
        "import pandas as pd\n",
        "import os\n",
        "import glob\n",
        "\n",
        "# Set the dataset folder path\n",
        "dataset_folder = \"CIC-IDS2017\"  # Change if needed\n",
        "\n",
        "# Find all Parquet files inside the folder\n",
        "parquet_files = glob.glob(os.path.join(dataset_folder, \"*.parquet\"))\n",
        "\n",
        "# Load all Parquet files and merge into a single DataFrame\n",
        "df_list = []  # Store individual DataFrames\n",
        "for file in parquet_files:\n",
        "    print(f\"📂 Loading: {file}\")  # Show file being loaded\n",
        "    df_list.append(pd.read_parquet(file))  # Read Parquet file\n",
        "\n",
        "# Combine all data into one DataFrame\n",
        "if df_list:\n",
        "    df = pd.concat(df_list, ignore_index=True)  # Merge all DataFrames\n",
        "    print(\"✅ All datasets merged successfully!\")\n",
        "    print(df.head())  # Show first 5 rows\n",
        "else:\n",
        "    print(\"❌ No Parquet files found. Check the dataset folder path.\")\n"
      ]
    },
    {
      "cell_type": "code",
      "execution_count": null,
      "metadata": {
        "colab": {
          "base_uri": "https://localhost:8080/"
        },
        "id": "ZOUHS8fPHeVt",
        "outputId": "906eba39-9462-4df2-f58f-26ea97c39e98"
      },
      "outputs": [
        {
          "output_type": "stream",
          "name": "stdout",
          "text": [
            "(2313810, 78)\n"
          ]
        }
      ],
      "source": [
        "print(df.shape)  # This will show (rows, columns)\n"
      ]
    },
    {
      "cell_type": "code",
      "execution_count": null,
      "metadata": {
        "colab": {
          "base_uri": "https://localhost:8080/"
        },
        "id": "zg-r4KPIDjH8",
        "outputId": "18d11db2-ba52-4ef7-b707-fcbc7324b9d4"
      },
      "outputs": [
        {
          "output_type": "stream",
          "name": "stdout",
          "text": [
            "Index(['Protocol', 'Flow Duration', 'Total Fwd Packets',\n",
            "       'Total Backward Packets', 'Fwd Packets Length Total',\n",
            "       'Bwd Packets Length Total', 'Fwd Packet Length Max',\n",
            "       'Fwd Packet Length Min', 'Fwd Packet Length Mean',\n",
            "       'Fwd Packet Length Std', 'Bwd Packet Length Max',\n",
            "       'Bwd Packet Length Min', 'Bwd Packet Length Mean',\n",
            "       'Bwd Packet Length Std', 'Flow Bytes/s', 'Flow Packets/s',\n",
            "       'Flow IAT Mean', 'Flow IAT Std', 'Flow IAT Max', 'Flow IAT Min',\n",
            "       'Fwd IAT Total', 'Fwd IAT Mean', 'Fwd IAT Std', 'Fwd IAT Max',\n",
            "       'Fwd IAT Min', 'Bwd IAT Total', 'Bwd IAT Mean', 'Bwd IAT Std',\n",
            "       'Bwd IAT Max', 'Bwd IAT Min', 'Fwd PSH Flags', 'Bwd PSH Flags',\n",
            "       'Fwd URG Flags', 'Bwd URG Flags', 'Fwd Header Length',\n",
            "       'Bwd Header Length', 'Fwd Packets/s', 'Bwd Packets/s',\n",
            "       'Packet Length Min', 'Packet Length Max', 'Packet Length Mean',\n",
            "       'Packet Length Std', 'Packet Length Variance', 'FIN Flag Count',\n",
            "       'SYN Flag Count', 'RST Flag Count', 'PSH Flag Count', 'ACK Flag Count',\n",
            "       'URG Flag Count', 'CWE Flag Count', 'ECE Flag Count', 'Down/Up Ratio',\n",
            "       'Avg Packet Size', 'Avg Fwd Segment Size', 'Avg Bwd Segment Size',\n",
            "       'Fwd Avg Bytes/Bulk', 'Fwd Avg Packets/Bulk', 'Fwd Avg Bulk Rate',\n",
            "       'Bwd Avg Bytes/Bulk', 'Bwd Avg Packets/Bulk', 'Bwd Avg Bulk Rate',\n",
            "       'Subflow Fwd Packets', 'Subflow Fwd Bytes', 'Subflow Bwd Packets',\n",
            "       'Subflow Bwd Bytes', 'Init Fwd Win Bytes', 'Init Bwd Win Bytes',\n",
            "       'Fwd Act Data Packets', 'Fwd Seg Size Min', 'Active Mean', 'Active Std',\n",
            "       'Active Max', 'Active Min', 'Idle Mean', 'Idle Std', 'Idle Max',\n",
            "       'Idle Min', 'Label'],\n",
            "      dtype='object')\n"
          ]
        }
      ],
      "source": [
        "print(df.columns)  # This will show the exact column names\n"
      ]
    },
    {
      "cell_type": "code",
      "execution_count": null,
      "metadata": {
        "colab": {
          "base_uri": "https://localhost:8080/",
          "height": 1000
        },
        "id": "mZdcO9XaHwqk",
        "outputId": "97786cef-e3a6-4844-ace5-900ee0a7bcc3"
      },
      "outputs": [
        {
          "output_type": "stream",
          "name": "stdout",
          "text": [
            "   Protocol  Flow Duration  Total Fwd Packets  Total Backward Packets  \\\n",
            "0         6            640                  7                       4   \n",
            "1         6            900                  9                       4   \n",
            "2         6           1205                  7                       4   \n",
            "3         6            511                  7                       4   \n",
            "4         6            773                  9                       4   \n",
            "\n",
            "   Fwd Packets Length Total  Bwd Packets Length Total  Fwd Packet Length Max  \\\n",
            "0                       440                       358                    220   \n",
            "1                       600                      2944                    300   \n",
            "2                      2776                      2830                   1388   \n",
            "3                       452                       370                    226   \n",
            "4                       612                      2944                    306   \n",
            "\n",
            "   Fwd Packet Length Min  Fwd Packet Length Mean  Fwd Packet Length Std  ...  \\\n",
            "0                      0               62.857143             107.349007  ...   \n",
            "1                      0               66.666664             132.287567  ...   \n",
            "2                      0              396.571442             677.274658  ...   \n",
            "3                      0               64.571426             110.276711  ...   \n",
            "4                      0               68.000000             134.933319  ...   \n",
            "\n",
            "   Fwd Seg Size Min  Active Mean  Active Std  Active Max  Active Min  \\\n",
            "0                20          0.0         0.0           0           0   \n",
            "1                20          0.0         0.0           0           0   \n",
            "2                20          0.0         0.0           0           0   \n",
            "3                20          0.0         0.0           0           0   \n",
            "4                20          0.0         0.0           0           0   \n",
            "\n",
            "   Idle Mean  Idle Std  Idle Max  Idle Min   Label  \n",
            "0        0.0       0.0         0         0  Benign  \n",
            "1        0.0       0.0         0         0  Benign  \n",
            "2        0.0       0.0         0         0  Benign  \n",
            "3        0.0       0.0         0         0  Benign  \n",
            "4        0.0       0.0         0         0  Benign  \n",
            "\n",
            "[5 rows x 78 columns]\n"
          ]
        },
        {
          "output_type": "execute_result",
          "data": {
            "text/plain": [
              "       Protocol  Flow Duration  Total Fwd Packets  Total Backward Packets  \\\n",
              "0             6            640                  7                       4   \n",
              "1             6            900                  9                       4   \n",
              "2             6           1205                  7                       4   \n",
              "3             6            511                  7                       4   \n",
              "4             6            773                  9                       4   \n",
              "...         ...            ...                ...                     ...   \n",
              "19284         6        2785576                  4                       4   \n",
              "19285         6          82494                  2                       0   \n",
              "19286        17         144868                  4                       4   \n",
              "19287        17          23408                  1                       1   \n",
              "19288        17          60371                  1                       1   \n",
              "\n",
              "       Fwd Packets Length Total  Bwd Packets Length Total  \\\n",
              "0                           440                       358   \n",
              "1                           600                      2944   \n",
              "2                          2776                      2830   \n",
              "3                           452                       370   \n",
              "4                           612                      2944   \n",
              "...                         ...                       ...   \n",
              "19284                       432                      1774   \n",
              "19285                         0                         0   \n",
              "19286                       116                       244   \n",
              "19287                        49                        81   \n",
              "19288                        40                       226   \n",
              "\n",
              "       Fwd Packet Length Max  Fwd Packet Length Min  Fwd Packet Length Mean  \\\n",
              "0                        220                      0               62.857143   \n",
              "1                        300                      0               66.666664   \n",
              "2                       1388                      0              396.571442   \n",
              "3                        226                      0               64.571426   \n",
              "4                        306                      0               68.000000   \n",
              "...                      ...                    ...                     ...   \n",
              "19284                    432                      0              108.000000   \n",
              "19285                      0                      0                0.000000   \n",
              "19286                     29                     29               29.000000   \n",
              "19287                     49                     49               49.000000   \n",
              "19288                     40                     40               40.000000   \n",
              "\n",
              "       Fwd Packet Length Std  ...  Fwd Seg Size Min  Active Mean  Active Std  \\\n",
              "0                 107.349007  ...                20          0.0         0.0   \n",
              "1                 132.287567  ...                20          0.0         0.0   \n",
              "2                 677.274658  ...                20          0.0         0.0   \n",
              "3                 110.276711  ...                20          0.0         0.0   \n",
              "4                 134.933319  ...                20          0.0         0.0   \n",
              "...                      ...  ...               ...          ...         ...   \n",
              "19284             216.000000  ...                32          0.0         0.0   \n",
              "19285               0.000000  ...                32          0.0         0.0   \n",
              "19286               0.000000  ...                20          0.0         0.0   \n",
              "19287               0.000000  ...                32          0.0         0.0   \n",
              "19288               0.000000  ...                20          0.0         0.0   \n",
              "\n",
              "       Active Max  Active Min  Idle Mean  Idle Std  Idle Max  Idle Min   Label  \n",
              "0               0           0        0.0       0.0         0         0  Benign  \n",
              "1               0           0        0.0       0.0         0         0  Benign  \n",
              "2               0           0        0.0       0.0         0         0  Benign  \n",
              "3               0           0        0.0       0.0         0         0  Benign  \n",
              "4               0           0        0.0       0.0         0         0  Benign  \n",
              "...           ...         ...        ...       ...       ...       ...     ...  \n",
              "19284           0           0        0.0       0.0         0         0  Benign  \n",
              "19285           0           0        0.0       0.0         0         0  Benign  \n",
              "19286           0           0        0.0       0.0         0         0  Benign  \n",
              "19287           0           0        0.0       0.0         0         0  Benign  \n",
              "19288           0           0        0.0       0.0         0         0  Benign  \n",
              "\n",
              "[19289 rows x 78 columns]"
            ],
            "text/html": [
              "\n",
              "  <div id=\"df-9a33237f-f99c-4f20-926d-6a03dae96417\" class=\"colab-df-container\">\n",
              "    <div>\n",
              "<style scoped>\n",
              "    .dataframe tbody tr th:only-of-type {\n",
              "        vertical-align: middle;\n",
              "    }\n",
              "\n",
              "    .dataframe tbody tr th {\n",
              "        vertical-align: top;\n",
              "    }\n",
              "\n",
              "    .dataframe thead th {\n",
              "        text-align: right;\n",
              "    }\n",
              "</style>\n",
              "<table border=\"1\" class=\"dataframe\">\n",
              "  <thead>\n",
              "    <tr style=\"text-align: right;\">\n",
              "      <th></th>\n",
              "      <th>Protocol</th>\n",
              "      <th>Flow Duration</th>\n",
              "      <th>Total Fwd Packets</th>\n",
              "      <th>Total Backward Packets</th>\n",
              "      <th>Fwd Packets Length Total</th>\n",
              "      <th>Bwd Packets Length Total</th>\n",
              "      <th>Fwd Packet Length Max</th>\n",
              "      <th>Fwd Packet Length Min</th>\n",
              "      <th>Fwd Packet Length Mean</th>\n",
              "      <th>Fwd Packet Length Std</th>\n",
              "      <th>...</th>\n",
              "      <th>Fwd Seg Size Min</th>\n",
              "      <th>Active Mean</th>\n",
              "      <th>Active Std</th>\n",
              "      <th>Active Max</th>\n",
              "      <th>Active Min</th>\n",
              "      <th>Idle Mean</th>\n",
              "      <th>Idle Std</th>\n",
              "      <th>Idle Max</th>\n",
              "      <th>Idle Min</th>\n",
              "      <th>Label</th>\n",
              "    </tr>\n",
              "  </thead>\n",
              "  <tbody>\n",
              "    <tr>\n",
              "      <th>0</th>\n",
              "      <td>6</td>\n",
              "      <td>640</td>\n",
              "      <td>7</td>\n",
              "      <td>4</td>\n",
              "      <td>440</td>\n",
              "      <td>358</td>\n",
              "      <td>220</td>\n",
              "      <td>0</td>\n",
              "      <td>62.857143</td>\n",
              "      <td>107.349007</td>\n",
              "      <td>...</td>\n",
              "      <td>20</td>\n",
              "      <td>0.0</td>\n",
              "      <td>0.0</td>\n",
              "      <td>0</td>\n",
              "      <td>0</td>\n",
              "      <td>0.0</td>\n",
              "      <td>0.0</td>\n",
              "      <td>0</td>\n",
              "      <td>0</td>\n",
              "      <td>Benign</td>\n",
              "    </tr>\n",
              "    <tr>\n",
              "      <th>1</th>\n",
              "      <td>6</td>\n",
              "      <td>900</td>\n",
              "      <td>9</td>\n",
              "      <td>4</td>\n",
              "      <td>600</td>\n",
              "      <td>2944</td>\n",
              "      <td>300</td>\n",
              "      <td>0</td>\n",
              "      <td>66.666664</td>\n",
              "      <td>132.287567</td>\n",
              "      <td>...</td>\n",
              "      <td>20</td>\n",
              "      <td>0.0</td>\n",
              "      <td>0.0</td>\n",
              "      <td>0</td>\n",
              "      <td>0</td>\n",
              "      <td>0.0</td>\n",
              "      <td>0.0</td>\n",
              "      <td>0</td>\n",
              "      <td>0</td>\n",
              "      <td>Benign</td>\n",
              "    </tr>\n",
              "    <tr>\n",
              "      <th>2</th>\n",
              "      <td>6</td>\n",
              "      <td>1205</td>\n",
              "      <td>7</td>\n",
              "      <td>4</td>\n",
              "      <td>2776</td>\n",
              "      <td>2830</td>\n",
              "      <td>1388</td>\n",
              "      <td>0</td>\n",
              "      <td>396.571442</td>\n",
              "      <td>677.274658</td>\n",
              "      <td>...</td>\n",
              "      <td>20</td>\n",
              "      <td>0.0</td>\n",
              "      <td>0.0</td>\n",
              "      <td>0</td>\n",
              "      <td>0</td>\n",
              "      <td>0.0</td>\n",
              "      <td>0.0</td>\n",
              "      <td>0</td>\n",
              "      <td>0</td>\n",
              "      <td>Benign</td>\n",
              "    </tr>\n",
              "    <tr>\n",
              "      <th>3</th>\n",
              "      <td>6</td>\n",
              "      <td>511</td>\n",
              "      <td>7</td>\n",
              "      <td>4</td>\n",
              "      <td>452</td>\n",
              "      <td>370</td>\n",
              "      <td>226</td>\n",
              "      <td>0</td>\n",
              "      <td>64.571426</td>\n",
              "      <td>110.276711</td>\n",
              "      <td>...</td>\n",
              "      <td>20</td>\n",
              "      <td>0.0</td>\n",
              "      <td>0.0</td>\n",
              "      <td>0</td>\n",
              "      <td>0</td>\n",
              "      <td>0.0</td>\n",
              "      <td>0.0</td>\n",
              "      <td>0</td>\n",
              "      <td>0</td>\n",
              "      <td>Benign</td>\n",
              "    </tr>\n",
              "    <tr>\n",
              "      <th>4</th>\n",
              "      <td>6</td>\n",
              "      <td>773</td>\n",
              "      <td>9</td>\n",
              "      <td>4</td>\n",
              "      <td>612</td>\n",
              "      <td>2944</td>\n",
              "      <td>306</td>\n",
              "      <td>0</td>\n",
              "      <td>68.000000</td>\n",
              "      <td>134.933319</td>\n",
              "      <td>...</td>\n",
              "      <td>20</td>\n",
              "      <td>0.0</td>\n",
              "      <td>0.0</td>\n",
              "      <td>0</td>\n",
              "      <td>0</td>\n",
              "      <td>0.0</td>\n",
              "      <td>0.0</td>\n",
              "      <td>0</td>\n",
              "      <td>0</td>\n",
              "      <td>Benign</td>\n",
              "    </tr>\n",
              "    <tr>\n",
              "      <th>...</th>\n",
              "      <td>...</td>\n",
              "      <td>...</td>\n",
              "      <td>...</td>\n",
              "      <td>...</td>\n",
              "      <td>...</td>\n",
              "      <td>...</td>\n",
              "      <td>...</td>\n",
              "      <td>...</td>\n",
              "      <td>...</td>\n",
              "      <td>...</td>\n",
              "      <td>...</td>\n",
              "      <td>...</td>\n",
              "      <td>...</td>\n",
              "      <td>...</td>\n",
              "      <td>...</td>\n",
              "      <td>...</td>\n",
              "      <td>...</td>\n",
              "      <td>...</td>\n",
              "      <td>...</td>\n",
              "      <td>...</td>\n",
              "      <td>...</td>\n",
              "    </tr>\n",
              "    <tr>\n",
              "      <th>19284</th>\n",
              "      <td>6</td>\n",
              "      <td>2785576</td>\n",
              "      <td>4</td>\n",
              "      <td>4</td>\n",
              "      <td>432</td>\n",
              "      <td>1774</td>\n",
              "      <td>432</td>\n",
              "      <td>0</td>\n",
              "      <td>108.000000</td>\n",
              "      <td>216.000000</td>\n",
              "      <td>...</td>\n",
              "      <td>32</td>\n",
              "      <td>0.0</td>\n",
              "      <td>0.0</td>\n",
              "      <td>0</td>\n",
              "      <td>0</td>\n",
              "      <td>0.0</td>\n",
              "      <td>0.0</td>\n",
              "      <td>0</td>\n",
              "      <td>0</td>\n",
              "      <td>Benign</td>\n",
              "    </tr>\n",
              "    <tr>\n",
              "      <th>19285</th>\n",
              "      <td>6</td>\n",
              "      <td>82494</td>\n",
              "      <td>2</td>\n",
              "      <td>0</td>\n",
              "      <td>0</td>\n",
              "      <td>0</td>\n",
              "      <td>0</td>\n",
              "      <td>0</td>\n",
              "      <td>0.000000</td>\n",
              "      <td>0.000000</td>\n",
              "      <td>...</td>\n",
              "      <td>32</td>\n",
              "      <td>0.0</td>\n",
              "      <td>0.0</td>\n",
              "      <td>0</td>\n",
              "      <td>0</td>\n",
              "      <td>0.0</td>\n",
              "      <td>0.0</td>\n",
              "      <td>0</td>\n",
              "      <td>0</td>\n",
              "      <td>Benign</td>\n",
              "    </tr>\n",
              "    <tr>\n",
              "      <th>19286</th>\n",
              "      <td>17</td>\n",
              "      <td>144868</td>\n",
              "      <td>4</td>\n",
              "      <td>4</td>\n",
              "      <td>116</td>\n",
              "      <td>244</td>\n",
              "      <td>29</td>\n",
              "      <td>29</td>\n",
              "      <td>29.000000</td>\n",
              "      <td>0.000000</td>\n",
              "      <td>...</td>\n",
              "      <td>20</td>\n",
              "      <td>0.0</td>\n",
              "      <td>0.0</td>\n",
              "      <td>0</td>\n",
              "      <td>0</td>\n",
              "      <td>0.0</td>\n",
              "      <td>0.0</td>\n",
              "      <td>0</td>\n",
              "      <td>0</td>\n",
              "      <td>Benign</td>\n",
              "    </tr>\n",
              "    <tr>\n",
              "      <th>19287</th>\n",
              "      <td>17</td>\n",
              "      <td>23408</td>\n",
              "      <td>1</td>\n",
              "      <td>1</td>\n",
              "      <td>49</td>\n",
              "      <td>81</td>\n",
              "      <td>49</td>\n",
              "      <td>49</td>\n",
              "      <td>49.000000</td>\n",
              "      <td>0.000000</td>\n",
              "      <td>...</td>\n",
              "      <td>32</td>\n",
              "      <td>0.0</td>\n",
              "      <td>0.0</td>\n",
              "      <td>0</td>\n",
              "      <td>0</td>\n",
              "      <td>0.0</td>\n",
              "      <td>0.0</td>\n",
              "      <td>0</td>\n",
              "      <td>0</td>\n",
              "      <td>Benign</td>\n",
              "    </tr>\n",
              "    <tr>\n",
              "      <th>19288</th>\n",
              "      <td>17</td>\n",
              "      <td>60371</td>\n",
              "      <td>1</td>\n",
              "      <td>1</td>\n",
              "      <td>40</td>\n",
              "      <td>226</td>\n",
              "      <td>40</td>\n",
              "      <td>40</td>\n",
              "      <td>40.000000</td>\n",
              "      <td>0.000000</td>\n",
              "      <td>...</td>\n",
              "      <td>20</td>\n",
              "      <td>0.0</td>\n",
              "      <td>0.0</td>\n",
              "      <td>0</td>\n",
              "      <td>0</td>\n",
              "      <td>0.0</td>\n",
              "      <td>0.0</td>\n",
              "      <td>0</td>\n",
              "      <td>0</td>\n",
              "      <td>Benign</td>\n",
              "    </tr>\n",
              "  </tbody>\n",
              "</table>\n",
              "<p>19289 rows × 78 columns</p>\n",
              "</div>\n",
              "    <div class=\"colab-df-buttons\">\n",
              "\n",
              "  <div class=\"colab-df-container\">\n",
              "    <button class=\"colab-df-convert\" onclick=\"convertToInteractive('df-9a33237f-f99c-4f20-926d-6a03dae96417')\"\n",
              "            title=\"Convert this dataframe to an interactive table.\"\n",
              "            style=\"display:none;\">\n",
              "\n",
              "  <svg xmlns=\"http://www.w3.org/2000/svg\" height=\"24px\" viewBox=\"0 -960 960 960\">\n",
              "    <path d=\"M120-120v-720h720v720H120Zm60-500h600v-160H180v160Zm220 220h160v-160H400v160Zm0 220h160v-160H400v160ZM180-400h160v-160H180v160Zm440 0h160v-160H620v160ZM180-180h160v-160H180v160Zm440 0h160v-160H620v160Z\"/>\n",
              "  </svg>\n",
              "    </button>\n",
              "\n",
              "  <style>\n",
              "    .colab-df-container {\n",
              "      display:flex;\n",
              "      gap: 12px;\n",
              "    }\n",
              "\n",
              "    .colab-df-convert {\n",
              "      background-color: #E8F0FE;\n",
              "      border: none;\n",
              "      border-radius: 50%;\n",
              "      cursor: pointer;\n",
              "      display: none;\n",
              "      fill: #1967D2;\n",
              "      height: 32px;\n",
              "      padding: 0 0 0 0;\n",
              "      width: 32px;\n",
              "    }\n",
              "\n",
              "    .colab-df-convert:hover {\n",
              "      background-color: #E2EBFA;\n",
              "      box-shadow: 0px 1px 2px rgba(60, 64, 67, 0.3), 0px 1px 3px 1px rgba(60, 64, 67, 0.15);\n",
              "      fill: #174EA6;\n",
              "    }\n",
              "\n",
              "    .colab-df-buttons div {\n",
              "      margin-bottom: 4px;\n",
              "    }\n",
              "\n",
              "    [theme=dark] .colab-df-convert {\n",
              "      background-color: #3B4455;\n",
              "      fill: #D2E3FC;\n",
              "    }\n",
              "\n",
              "    [theme=dark] .colab-df-convert:hover {\n",
              "      background-color: #434B5C;\n",
              "      box-shadow: 0px 1px 3px 1px rgba(0, 0, 0, 0.15);\n",
              "      filter: drop-shadow(0px 1px 2px rgba(0, 0, 0, 0.3));\n",
              "      fill: #FFFFFF;\n",
              "    }\n",
              "  </style>\n",
              "\n",
              "    <script>\n",
              "      const buttonEl =\n",
              "        document.querySelector('#df-9a33237f-f99c-4f20-926d-6a03dae96417 button.colab-df-convert');\n",
              "      buttonEl.style.display =\n",
              "        google.colab.kernel.accessAllowed ? 'block' : 'none';\n",
              "\n",
              "      async function convertToInteractive(key) {\n",
              "        const element = document.querySelector('#df-9a33237f-f99c-4f20-926d-6a03dae96417');\n",
              "        const dataTable =\n",
              "          await google.colab.kernel.invokeFunction('convertToInteractive',\n",
              "                                                    [key], {});\n",
              "        if (!dataTable) return;\n",
              "\n",
              "        const docLinkHtml = 'Like what you see? Visit the ' +\n",
              "          '<a target=\"_blank\" href=https://colab.research.google.com/notebooks/data_table.ipynb>data table notebook</a>'\n",
              "          + ' to learn more about interactive tables.';\n",
              "        element.innerHTML = '';\n",
              "        dataTable['output_type'] = 'display_data';\n",
              "        await google.colab.output.renderOutput(dataTable, element);\n",
              "        const docLink = document.createElement('div');\n",
              "        docLink.innerHTML = docLinkHtml;\n",
              "        element.appendChild(docLink);\n",
              "      }\n",
              "    </script>\n",
              "  </div>\n",
              "\n",
              "\n",
              "    <div id=\"df-4330ad99-4038-4ce9-af11-52f36b204700\">\n",
              "      <button class=\"colab-df-quickchart\" onclick=\"quickchart('df-4330ad99-4038-4ce9-af11-52f36b204700')\"\n",
              "                title=\"Suggest charts\"\n",
              "                style=\"display:none;\">\n",
              "\n",
              "<svg xmlns=\"http://www.w3.org/2000/svg\" height=\"24px\"viewBox=\"0 0 24 24\"\n",
              "     width=\"24px\">\n",
              "    <g>\n",
              "        <path d=\"M19 3H5c-1.1 0-2 .9-2 2v14c0 1.1.9 2 2 2h14c1.1 0 2-.9 2-2V5c0-1.1-.9-2-2-2zM9 17H7v-7h2v7zm4 0h-2V7h2v10zm4 0h-2v-4h2v4z\"/>\n",
              "    </g>\n",
              "</svg>\n",
              "      </button>\n",
              "\n",
              "<style>\n",
              "  .colab-df-quickchart {\n",
              "      --bg-color: #E8F0FE;\n",
              "      --fill-color: #1967D2;\n",
              "      --hover-bg-color: #E2EBFA;\n",
              "      --hover-fill-color: #174EA6;\n",
              "      --disabled-fill-color: #AAA;\n",
              "      --disabled-bg-color: #DDD;\n",
              "  }\n",
              "\n",
              "  [theme=dark] .colab-df-quickchart {\n",
              "      --bg-color: #3B4455;\n",
              "      --fill-color: #D2E3FC;\n",
              "      --hover-bg-color: #434B5C;\n",
              "      --hover-fill-color: #FFFFFF;\n",
              "      --disabled-bg-color: #3B4455;\n",
              "      --disabled-fill-color: #666;\n",
              "  }\n",
              "\n",
              "  .colab-df-quickchart {\n",
              "    background-color: var(--bg-color);\n",
              "    border: none;\n",
              "    border-radius: 50%;\n",
              "    cursor: pointer;\n",
              "    display: none;\n",
              "    fill: var(--fill-color);\n",
              "    height: 32px;\n",
              "    padding: 0;\n",
              "    width: 32px;\n",
              "  }\n",
              "\n",
              "  .colab-df-quickchart:hover {\n",
              "    background-color: var(--hover-bg-color);\n",
              "    box-shadow: 0 1px 2px rgba(60, 64, 67, 0.3), 0 1px 3px 1px rgba(60, 64, 67, 0.15);\n",
              "    fill: var(--button-hover-fill-color);\n",
              "  }\n",
              "\n",
              "  .colab-df-quickchart-complete:disabled,\n",
              "  .colab-df-quickchart-complete:disabled:hover {\n",
              "    background-color: var(--disabled-bg-color);\n",
              "    fill: var(--disabled-fill-color);\n",
              "    box-shadow: none;\n",
              "  }\n",
              "\n",
              "  .colab-df-spinner {\n",
              "    border: 2px solid var(--fill-color);\n",
              "    border-color: transparent;\n",
              "    border-bottom-color: var(--fill-color);\n",
              "    animation:\n",
              "      spin 1s steps(1) infinite;\n",
              "  }\n",
              "\n",
              "  @keyframes spin {\n",
              "    0% {\n",
              "      border-color: transparent;\n",
              "      border-bottom-color: var(--fill-color);\n",
              "      border-left-color: var(--fill-color);\n",
              "    }\n",
              "    20% {\n",
              "      border-color: transparent;\n",
              "      border-left-color: var(--fill-color);\n",
              "      border-top-color: var(--fill-color);\n",
              "    }\n",
              "    30% {\n",
              "      border-color: transparent;\n",
              "      border-left-color: var(--fill-color);\n",
              "      border-top-color: var(--fill-color);\n",
              "      border-right-color: var(--fill-color);\n",
              "    }\n",
              "    40% {\n",
              "      border-color: transparent;\n",
              "      border-right-color: var(--fill-color);\n",
              "      border-top-color: var(--fill-color);\n",
              "    }\n",
              "    60% {\n",
              "      border-color: transparent;\n",
              "      border-right-color: var(--fill-color);\n",
              "    }\n",
              "    80% {\n",
              "      border-color: transparent;\n",
              "      border-right-color: var(--fill-color);\n",
              "      border-bottom-color: var(--fill-color);\n",
              "    }\n",
              "    90% {\n",
              "      border-color: transparent;\n",
              "      border-bottom-color: var(--fill-color);\n",
              "    }\n",
              "  }\n",
              "</style>\n",
              "\n",
              "      <script>\n",
              "        async function quickchart(key) {\n",
              "          const quickchartButtonEl =\n",
              "            document.querySelector('#' + key + ' button');\n",
              "          quickchartButtonEl.disabled = true;  // To prevent multiple clicks.\n",
              "          quickchartButtonEl.classList.add('colab-df-spinner');\n",
              "          try {\n",
              "            const charts = await google.colab.kernel.invokeFunction(\n",
              "                'suggestCharts', [key], {});\n",
              "          } catch (error) {\n",
              "            console.error('Error during call to suggestCharts:', error);\n",
              "          }\n",
              "          quickchartButtonEl.classList.remove('colab-df-spinner');\n",
              "          quickchartButtonEl.classList.add('colab-df-quickchart-complete');\n",
              "        }\n",
              "        (() => {\n",
              "          let quickchartButtonEl =\n",
              "            document.querySelector('#df-4330ad99-4038-4ce9-af11-52f36b204700 button');\n",
              "          quickchartButtonEl.style.display =\n",
              "            google.colab.kernel.accessAllowed ? 'block' : 'none';\n",
              "        })();\n",
              "      </script>\n",
              "    </div>\n",
              "\n",
              "    </div>\n",
              "  </div>\n"
            ],
            "application/vnd.google.colaboratory.intrinsic+json": {
              "type": "dataframe"
            }
          },
          "metadata": {},
          "execution_count": 9
        }
      ],
      "source": [
        "# The DataFrame contains network intrusion data from the CIC-IDS2017 dataset.\n",
        "#  The column names correspond to different features of the network traffic, such as the duration of the connection, the type of protocol used, the number of bytes sent and received.\n",
        "# The \"outcome\" column indicates the type of intrusion: normal, or one of several types of attacks, such as denial-of-service, probe, or user-to-root.\n",
        "\n",
        "\n",
        "# Assign the correct column names to the dataset (adjusting for the CICIDS2017 dataset columns)\n",
        "df.columns = [\n",
        "    'Protocol', 'Flow Duration', 'Total Fwd Packets', 'Total Backward Packets',\n",
        "    'Fwd Packets Length Total', 'Bwd Packets Length Total', 'Fwd Packet Length Max',\n",
        "    'Fwd Packet Length Min', 'Fwd Packet Length Mean', 'Fwd Packet Length Std',\n",
        "    'Bwd Packet Length Max', 'Bwd Packet Length Min', 'Bwd Packet Length Mean',\n",
        "    'Bwd Packet Length Std', 'Flow Bytes/s', 'Flow Packets/s', 'Flow IAT Mean',\n",
        "    'Flow IAT Std', 'Flow IAT Max', 'Flow IAT Min', 'Fwd IAT Total', 'Fwd IAT Mean',\n",
        "    'Fwd IAT Std', 'Fwd IAT Max', 'Fwd IAT Min', 'Bwd IAT Total', 'Bwd IAT Mean',\n",
        "    'Bwd IAT Std', 'Bwd IAT Max', 'Bwd IAT Min', 'Fwd PSH Flags', 'Bwd PSH Flags',\n",
        "    'Fwd URG Flags', 'Bwd URG Flags', 'Fwd Header Length', 'Bwd Header Length',\n",
        "    'Fwd Packets/s', 'Bwd Packets/s', 'Packet Length Min', 'Packet Length Max',\n",
        "    'Packet Length Mean', 'Packet Length Std', 'Packet Length Variance', 'FIN Flag Count',\n",
        "    'SYN Flag Count', 'RST Flag Count', 'PSH Flag Count', 'ACK Flag Count', 'URG Flag Count',\n",
        "    'CWE Flag Count', 'ECE Flag Count', 'Down/Up Ratio', 'Avg Packet Size',\n",
        "    'Avg Fwd Segment Size', 'Avg Bwd Segment Size', 'Fwd Avg Bytes/Bulk',\n",
        "    'Fwd Avg Packets/Bulk', 'Fwd Avg Bulk Rate', 'Bwd Avg Bytes/Bulk', 'Bwd Avg Packets/Bulk',\n",
        "    'Bwd Avg Bulk Rate', 'Subflow Fwd Packets', 'Subflow Fwd Bytes', 'Subflow Bwd Packets',\n",
        "    'Subflow Bwd Bytes', 'Init Fwd Win Bytes', 'Init Bwd Win Bytes', 'Fwd Act Data Packets',\n",
        "    'Fwd Seg Size Min', 'Active Mean', 'Active Std', 'Active Max', 'Active Min',\n",
        "    'Idle Mean', 'Idle Std', 'Idle Max', 'Idle Min', 'Label'\n",
        "]\n",
        "# Display the first 5 rows to verify\n",
        "print(df.head())\n",
        "df[0:19289]"
      ]
    },
    {
      "cell_type": "code",
      "source": [
        "print(\"Original Label Distribution:\")\n",
        "print(df['Label'].value_counts())\n",
        "\n",
        "# Define the revised mapping for ONLY DDOS/DOS vs. Normal:\n",
        "mapping = {\n",
        "    'BENIGN': 'Normal',\n",
        "    'DoS Hulk': 'Attack',\n",
        "    'DDoS': 'Attack',\n",
        "    'DoS GoldenEye': 'Attack',\n",
        "    'DoS slowloris': 'Attack',\n",
        "    'DoS Slowhttptest': 'Attack',\n",
        "    'FTP-Patator': 'Normal',\n",
        "    'SSH-Patator': 'Normal',\n",
        "    'PortScan': 'Normal',\n",
        "    'Web Attack \\u0096 Brute Force': 'Normal',\n",
        "    'Bot': 'Normal',\n",
        "    'Web Attack \\u0096 XSS': 'Normal',\n",
        "    'Infiltration': 'Normal',\n",
        "    'Heartbleed': 'Normal',\n",
        "    'Web Attack \\u0096 Sql Injection': 'Normal'\n",
        "}\n",
        "\n",
        "# Apply the mapping to the 'Label' column\n",
        "df['Label'] = df['Label'].replace(mapping)\n",
        "\n",
        "# Remove any rows that are not 'Normal' or 'Attack' after the mapping\n",
        "df = df[df['Label'].isin(['Normal', 'Attack'])]\n",
        "\n",
        "print(\"\\nNew Label Distribution for Binary Classification (DDOS/DOS vs. Normal):\")\n",
        "print(df['Label'].value_counts())"
      ],
      "metadata": {
        "colab": {
          "base_uri": "https://localhost:8080/"
        },
        "id": "7YRt_LKC16aU",
        "outputId": "1430f669-96e9-46f1-e2c4-91251a48df2a"
      },
      "execution_count": null,
      "outputs": [
        {
          "output_type": "stream",
          "name": "stdout",
          "text": [
            "Original Label Distribution:\n",
            "Label\n",
            "Benign                        1977318\n",
            "DoS Hulk                       172846\n",
            "DDoS                           128014\n",
            "DoS GoldenEye                   10286\n",
            "FTP-Patator                      5931\n",
            "DoS slowloris                    5385\n",
            "DoS Slowhttptest                 5228\n",
            "SSH-Patator                      3219\n",
            "PortScan                         1956\n",
            "Web Attack � Brute Force         1470\n",
            "Bot                              1437\n",
            "Web Attack � XSS                  652\n",
            "Infiltration                       36\n",
            "Web Attack � Sql Injection         21\n",
            "Heartbleed                         11\n",
            "Name: count, dtype: int64\n",
            "\n",
            "New Label Distribution for Binary Classification (DDOS/DOS vs. Normal):\n",
            "Label\n",
            "Attack    321759\n",
            "Normal     12590\n",
            "Name: count, dtype: int64\n"
          ]
        }
      ]
    },
    {
      "cell_type": "code",
      "source": [
        "from sklearn.preprocessing import LabelEncoder\n",
        "\n",
        "label_encoder = LabelEncoder()\n",
        "df['Label_Encoded'] = label_encoder.fit_transform(df['Label'])\n",
        "\n",
        "print(df[['Label', 'Label_Encoded']].head())\n",
        "print(\"\\nLabel Encoding Mapping:\")\n",
        "for class_name in label_encoder.classes_:\n",
        "    print(f\"{class_name} -> {label_encoder.transform([class_name])[0]}\")\n",
        "\n",
        "# Now the target variable for training will be df['Label_Encoded']"
      ],
      "metadata": {
        "colab": {
          "base_uri": "https://localhost:8080/"
        },
        "id": "yvRs70f15nuG",
        "outputId": "7f06f55b-4a84-400f-e8c9-4a4d11b34cd4"
      },
      "execution_count": null,
      "outputs": [
        {
          "output_type": "stream",
          "name": "stdout",
          "text": [
            "        Label  Label_Encoded\n",
            "10790  Normal              1\n",
            "10791  Normal              1\n",
            "10792  Normal              1\n",
            "10793  Normal              1\n",
            "10794  Normal              1\n",
            "\n",
            "Label Encoding Mapping:\n",
            "Attack -> 0\n",
            "Normal -> 1\n"
          ]
        }
      ]
    },
    {
      "cell_type": "code",
      "source": [
        "X = df.drop(['Label', 'Label_Encoded'], axis=1).values\n",
        "y = df['Label_Encoded'].values\n",
        "\n",
        "print(\"Shape of Feature Matrix (X):\", X.shape)\n",
        "print(\"Shape of Target Vector (y):\", y.shape)"
      ],
      "metadata": {
        "colab": {
          "base_uri": "https://localhost:8080/"
        },
        "id": "tZRTkogI527j",
        "outputId": "a40ecc5f-0f0e-4d12-d97f-71b2859a5878"
      },
      "execution_count": null,
      "outputs": [
        {
          "output_type": "stream",
          "name": "stdout",
          "text": [
            "Shape of Feature Matrix (X): (334349, 77)\n",
            "Shape of Target Vector (y): (334349,)\n"
          ]
        }
      ]
    },
    {
      "cell_type": "code",
      "execution_count": null,
      "metadata": {
        "colab": {
          "base_uri": "https://localhost:8080/"
        },
        "id": "UjdzJVhRHw3T",
        "outputId": "a6ad1318-eb48-460b-e11f-ce0bd806e8ac"
      },
      "outputs": [
        {
          "output_type": "stream",
          "name": "stdout",
          "text": [
            "Read 334349 rows.\n",
            "========================================\n",
            "The number of data points are: 334349\n",
            "========================================\n",
            "The number of features are: 79\n",
            "========================================\n",
            "The different type of output labels are: {'Normal', 'Attack'}\n",
            "=============================================================================================================================\n",
            "The number of different output labels are: 2\n"
          ]
        }
      ],
      "source": [
        "print(\"Read {} rows.\".format(len(df)))  #the number of rows in the loaded dataset.\n",
        "print('='*40)\n",
        "print('The number of data points are:', df.shape[0])  #the number of data points in the dataset.\n",
        "print('='*40)\n",
        "print('The number of features are:', df.shape[1]) # the number of features (columns) in the dataset.\n",
        "print('='*40)\n",
        "output = df['Label'].values\n",
        "labels = set(output)\n",
        "print('The different type of output labels are:', labels)\n",
        "print('='*125)\n",
        "print('The number of different output labels are:', len(labels))"
      ]
    },
    {
      "cell_type": "code",
      "execution_count": null,
      "metadata": {
        "colab": {
          "base_uri": "https://localhost:8080/"
        },
        "id": "SHQU8r2BH6ye",
        "outputId": "157fb240-024f-4f4c-b0aa-3d6767a2a1ab"
      },
      "outputs": [
        {
          "output_type": "stream",
          "name": "stdout",
          "text": [
            "Null values in dataset are 0\n",
            "========================================\n",
            "Read 334349 rows.\n"
          ]
        }
      ],
      "source": [
        "# Data Cleaning\n",
        "\n",
        "# Checking for NULL values\n",
        "print('Null values in dataset are',len(df[df.isnull().any(axis=1)]))\n",
        "print('='*40)\n",
        "\n",
        "# Checkng for DUPLICATE values\n",
        "df.drop_duplicates(keep='first', inplace = True)\n",
        "\n",
        "# dropping NA's (rows with missing values)\n",
        "df.dropna(inplace=True,axis=1)\n",
        "\n",
        "# stored the data into a pickle file to load through\n",
        "# df.to_pickle('df.pkl')\n",
        "\n",
        "print(\"Read {} rows.\".format(len(df)))"
      ]
    },
    {
      "cell_type": "code",
      "execution_count": null,
      "metadata": {
        "colab": {
          "base_uri": "https://localhost:8080/",
          "height": 345
        },
        "id": "OgJvBknwHxD0",
        "outputId": "07603dcf-8588-4d90-ffc9-3e6a28ffc87b"
      },
      "outputs": [
        {
          "output_type": "display_data",
          "data": {
            "text/plain": [
              "<Figure size 1500x700 with 1 Axes>"
            ],
            "image/png": "[encoded data removed]"
          },
          "metadata": {}
        }
      ],
      "source": [
        "# Exploratory data analysis, This code generates a bar plot that shows the distribution of different output labels in the dataset.\n",
        "\n",
        "import matplotlib.pyplot as plt\n",
        "from matplotlib.pyplot import *\n",
        "\n",
        "\n",
        "plt.figure(figsize=(15,7)) #width of 15 inches and height 7 inches\n",
        "class_distribution = df['Label'].value_counts()\n",
        "class_distribution.plot(kind='bar')\n",
        "plt.xlabel('Class')\n",
        "plt.ylabel('Data points per Class')\n",
        "plt.title('Distribution of Labels (Normal vs. Attack)')\n",
        "plt.grid()\n",
        "plt.show()"
      ]
    },
    {
      "cell_type": "code",
      "execution_count": null,
      "metadata": {
        "id": "KRDv_hNQS8D_"
      },
      "outputs": [],
      "source": [
        "# Encode a numeric column as zscores\n",
        "def encode_numeric_zscore(df, name, mean=None, sd=None):\n",
        "    if mean is None:\n",
        "        mean = df[name].mean()\n",
        "\n",
        "    if sd is None:\n",
        "        sd = df[name].std()\n",
        "\n",
        "    df[name] = (df[name] - mean) / sd\n",
        "\n",
        "# Encode text values to dummy variables(i.e. [1,0,0],[0,1,0],[0,0,1] for red,green,blue)\n",
        "def encode_text_dummy(df, name):\n",
        "    dummies = pd.get_dummies(df[name])\n",
        "    for x in dummies.columns:\n",
        "        dummy_name = f\"{name}-{x}\"\n",
        "        df[dummy_name] = dummies[x]\n",
        "    df.drop(name, axis=1, inplace=True)"
      ]
    },
    {
      "cell_type": "code",
      "execution_count": null,
      "metadata": {
        "id": "kb4p8KMGS8QP"
      },
      "outputs": [],
      "source": [
        "def encode_text_dummy(df, column_name):\n",
        "    \"\"\"\n",
        "    Converts categorical text column into dummy/one-hot encoded columns.\n",
        "    \"\"\"\n",
        "    dummies = pd.get_dummies(df[column_name], prefix=column_name)  # Create dummy variables\n",
        "    df.drop(column_name, axis=1, inplace=True)  # Drop original column\n",
        "    df = pd.concat([df, dummies], axis=1)  # Add new dummy columns\n",
        "    return df  # Return modified dataframe\n"
      ]
    },
    {
      "cell_type": "code",
      "execution_count": null,
      "metadata": {
        "colab": {
          "base_uri": "https://localhost:8080/",
          "height": 307
        },
        "id": "byT1jMzrUEw0",
        "outputId": "6eb7fd86-ef5c-438f-e668-2b3ef51e4b34"
      },
      "outputs": [
        {
          "output_type": "execute_result",
          "data": {
            "text/plain": [
              "       Protocol  Flow Duration  Total Fwd Packets  Total Backward Packets  \\\n",
              "10790         6      -0.969079          -0.123670               -0.186518   \n",
              "10791         6      -1.084922          -0.209006               -0.186518   \n",
              "10792         6      -1.084921          -0.209006               -0.186518   \n",
              "10793         6      -1.084920          -0.209006               -0.186518   \n",
              "10794         6      -1.084920          -0.209006               -0.186518   \n",
              "\n",
              "       Fwd Packets Length Total  Bwd Packets Length Total  \\\n",
              "10790                         0                         0   \n",
              "10791                         0                         0   \n",
              "10792                         0                         0   \n",
              "10793                         0                         0   \n",
              "10794                         0                         0   \n",
              "\n",
              "       Fwd Packet Length Max  Fwd Packet Length Min  Fwd Packet Length Mean  \\\n",
              "10790              -0.755382              -0.072458               -0.604463   \n",
              "10791              -0.755382              -0.072458               -0.604463   \n",
              "10792              -0.755382              -0.072458               -0.604463   \n",
              "10793              -0.755382              -0.072458               -0.604463   \n",
              "10794              -0.755382              -0.072458               -0.604463   \n",
              "\n",
              "       Fwd Packet Length Std  ...  Active Mean  Active Std  Active Max  \\\n",
              "10790              -0.897361  ...          0.0         0.0           0   \n",
              "10791              -0.897361  ...          0.0         0.0           0   \n",
              "10792              -0.897361  ...          0.0         0.0           0   \n",
              "10793              -0.897361  ...          0.0         0.0           0   \n",
              "10794              -0.897361  ...          0.0         0.0           0   \n",
              "\n",
              "       Active Min  Idle Mean  Idle Std  Idle Max  Idle Min   Label  \\\n",
              "10790           0        0.0       0.0         0         0  Normal   \n",
              "10791           0        0.0       0.0         0         0  Normal   \n",
              "10792           0        0.0       0.0         0         0  Normal   \n",
              "10793           0        0.0       0.0         0         0  Normal   \n",
              "10794           0        0.0       0.0         0         0  Normal   \n",
              "\n",
              "       Label_Encoded  \n",
              "10790              1  \n",
              "10791              1  \n",
              "10792              1  \n",
              "10793              1  \n",
              "10794              1  \n",
              "\n",
              "[5 rows x 76 columns]"
            ],
            "text/html": [
              "\n",
              "  <div id=\"df-0c805c90-e4ab-441d-b2d7-9165694c7bf3\" class=\"colab-df-container\">\n",
              "    <div>\n",
              "<style scoped>\n",
              "    .dataframe tbody tr th:only-of-type {\n",
              "        vertical-align: middle;\n",
              "    }\n",
              "\n",
              "    .dataframe tbody tr th {\n",
              "        vertical-align: top;\n",
              "    }\n",
              "\n",
              "    .dataframe thead th {\n",
              "        text-align: right;\n",
              "    }\n",
              "</style>\n",
              "<table border=\"1\" class=\"dataframe\">\n",
              "  <thead>\n",
              "    <tr style=\"text-align: right;\">\n",
              "      <th></th>\n",
              "      <th>Protocol</th>\n",
              "      <th>Flow Duration</th>\n",
              "      <th>Total Fwd Packets</th>\n",
              "      <th>Total Backward Packets</th>\n",
              "      <th>Fwd Packets Length Total</th>\n",
              "      <th>Bwd Packets Length Total</th>\n",
              "      <th>Fwd Packet Length Max</th>\n",
              "      <th>Fwd Packet Length Min</th>\n",
              "      <th>Fwd Packet Length Mean</th>\n",
              "      <th>Fwd Packet Length Std</th>\n",
              "      <th>...</th>\n",
              "      <th>Active Mean</th>\n",
              "      <th>Active Std</th>\n",
              "      <th>Active Max</th>\n",
              "      <th>Active Min</th>\n",
              "      <th>Idle Mean</th>\n",
              "      <th>Idle Std</th>\n",
              "      <th>Idle Max</th>\n",
              "      <th>Idle Min</th>\n",
              "      <th>Label</th>\n",
              "      <th>Label_Encoded</th>\n",
              "    </tr>\n",
              "  </thead>\n",
              "  <tbody>\n",
              "    <tr>\n",
              "      <th>10790</th>\n",
              "      <td>6</td>\n",
              "      <td>-0.969079</td>\n",
              "      <td>-0.123670</td>\n",
              "      <td>-0.186518</td>\n",
              "      <td>0</td>\n",
              "      <td>0</td>\n",
              "      <td>-0.755382</td>\n",
              "      <td>-0.072458</td>\n",
              "      <td>-0.604463</td>\n",
              "      <td>-0.897361</td>\n",
              "      <td>...</td>\n",
              "      <td>0.0</td>\n",
              "      <td>0.0</td>\n",
              "      <td>0</td>\n",
              "      <td>0</td>\n",
              "      <td>0.0</td>\n",
              "      <td>0.0</td>\n",
              "      <td>0</td>\n",
              "      <td>0</td>\n",
              "      <td>Normal</td>\n",
              "      <td>1</td>\n",
              "    </tr>\n",
              "    <tr>\n",
              "      <th>10791</th>\n",
              "      <td>6</td>\n",
              "      <td>-1.084922</td>\n",
              "      <td>-0.209006</td>\n",
              "      <td>-0.186518</td>\n",
              "      <td>0</td>\n",
              "      <td>0</td>\n",
              "      <td>-0.755382</td>\n",
              "      <td>-0.072458</td>\n",
              "      <td>-0.604463</td>\n",
              "      <td>-0.897361</td>\n",
              "      <td>...</td>\n",
              "      <td>0.0</td>\n",
              "      <td>0.0</td>\n",
              "      <td>0</td>\n",
              "      <td>0</td>\n",
              "      <td>0.0</td>\n",
              "      <td>0.0</td>\n",
              "      <td>0</td>\n",
              "      <td>0</td>\n",
              "      <td>Normal</td>\n",
              "      <td>1</td>\n",
              "    </tr>\n",
              "    <tr>\n",
              "      <th>10792</th>\n",
              "      <td>6</td>\n",
              "      <td>-1.084921</td>\n",
              "      <td>-0.209006</td>\n",
              "      <td>-0.186518</td>\n",
              "      <td>0</td>\n",
              "      <td>0</td>\n",
              "      <td>-0.755382</td>\n",
              "      <td>-0.072458</td>\n",
              "      <td>-0.604463</td>\n",
              "      <td>-0.897361</td>\n",
              "      <td>...</td>\n",
              "      <td>0.0</td>\n",
              "      <td>0.0</td>\n",
              "      <td>0</td>\n",
              "      <td>0</td>\n",
              "      <td>0.0</td>\n",
              "      <td>0.0</td>\n",
              "      <td>0</td>\n",
              "      <td>0</td>\n",
              "      <td>Normal</td>\n",
              "      <td>1</td>\n",
              "    </tr>\n",
              "    <tr>\n",
              "      <th>10793</th>\n",
              "      <td>6</td>\n",
              "      <td>-1.084920</td>\n",
              "      <td>-0.209006</td>\n",
              "      <td>-0.186518</td>\n",
              "      <td>0</td>\n",
              "      <td>0</td>\n",
              "      <td>-0.755382</td>\n",
              "      <td>-0.072458</td>\n",
              "      <td>-0.604463</td>\n",
              "      <td>-0.897361</td>\n",
              "      <td>...</td>\n",
              "      <td>0.0</td>\n",
              "      <td>0.0</td>\n",
              "      <td>0</td>\n",
              "      <td>0</td>\n",
              "      <td>0.0</td>\n",
              "      <td>0.0</td>\n",
              "      <td>0</td>\n",
              "      <td>0</td>\n",
              "      <td>Normal</td>\n",
              "      <td>1</td>\n",
              "    </tr>\n",
              "    <tr>\n",
              "      <th>10794</th>\n",
              "      <td>6</td>\n",
              "      <td>-1.084920</td>\n",
              "      <td>-0.209006</td>\n",
              "      <td>-0.186518</td>\n",
              "      <td>0</td>\n",
              "      <td>0</td>\n",
              "      <td>-0.755382</td>\n",
              "      <td>-0.072458</td>\n",
              "      <td>-0.604463</td>\n",
              "      <td>-0.897361</td>\n",
              "      <td>...</td>\n",
              "      <td>0.0</td>\n",
              "      <td>0.0</td>\n",
              "      <td>0</td>\n",
              "      <td>0</td>\n",
              "      <td>0.0</td>\n",
              "      <td>0.0</td>\n",
              "      <td>0</td>\n",
              "      <td>0</td>\n",
              "      <td>Normal</td>\n",
              "      <td>1</td>\n",
              "    </tr>\n",
              "  </tbody>\n",
              "</table>\n",
              "<p>5 rows × 76 columns</p>\n",
              "</div>\n",
              "    <div class=\"colab-df-buttons\">\n",
              "\n",
              "  <div class=\"colab-df-container\">\n",
              "    <button class=\"colab-df-convert\" onclick=\"convertToInteractive('df-0c805c90-e4ab-441d-b2d7-9165694c7bf3')\"\n",
              "            title=\"Convert this dataframe to an interactive table.\"\n",
              "            style=\"display:none;\">\n",
              "\n",
              "  <svg xmlns=\"http://www.w3.org/2000/svg\" height=\"24px\" viewBox=\"0 -960 960 960\">\n",
              "    <path d=\"M120-120v-720h720v720H120Zm60-500h600v-160H180v160Zm220 220h160v-160H400v160Zm0 220h160v-160H400v160ZM180-400h160v-160H180v160Zm440 0h160v-160H620v160ZM180-180h160v-160H180v160Zm440 0h160v-160H620v160Z\"/>\n",
              "  </svg>\n",
              "    </button>\n",
              "\n",
              "  <style>\n",
              "    .colab-df-container {\n",
              "      display:flex;\n",
              "      gap: 12px;\n",
              "    }\n",
              "\n",
              "    .colab-df-convert {\n",
              "      background-color: #E8F0FE;\n",
              "      border: none;\n",
              "      border-radius: 50%;\n",
              "      cursor: pointer;\n",
              "      display: none;\n",
              "      fill: #1967D2;\n",
              "      height: 32px;\n",
              "      padding: 0 0 0 0;\n",
              "      width: 32px;\n",
              "    }\n",
              "\n",
              "    .colab-df-convert:hover {\n",
              "      background-color: #E2EBFA;\n",
              "      box-shadow: 0px 1px 2px rgba(60, 64, 67, 0.3), 0px 1px 3px 1px rgba(60, 64, 67, 0.15);\n",
              "      fill: #174EA6;\n",
              "    }\n",
              "\n",
              "    .colab-df-buttons div {\n",
              "      margin-bottom: 4px;\n",
              "    }\n",
              "\n",
              "    [theme=dark] .colab-df-convert {\n",
              "      background-color: #3B4455;\n",
              "      fill: #D2E3FC;\n",
              "    }\n",
              "\n",
              "    [theme=dark] .colab-df-convert:hover {\n",
              "      background-color: #434B5C;\n",
              "      box-shadow: 0px 1px 3px 1px rgba(0, 0, 0, 0.15);\n",
              "      filter: drop-shadow(0px 1px 2px rgba(0, 0, 0, 0.3));\n",
              "      fill: #FFFFFF;\n",
              "    }\n",
              "  </style>\n",
              "\n",
              "    <script>\n",
              "      const buttonEl =\n",
              "        document.querySelector('#df-0c805c90-e4ab-441d-b2d7-9165694c7bf3 button.colab-df-convert');\n",
              "      buttonEl.style.display =\n",
              "        google.colab.kernel.accessAllowed ? 'block' : 'none';\n",
              "\n",
              "      async function convertToInteractive(key) {\n",
              "        const element = document.querySelector('#df-0c805c90-e4ab-441d-b2d7-9165694c7bf3');\n",
              "        const dataTable =\n",
              "          await google.colab.kernel.invokeFunction('convertToInteractive',\n",
              "                                                    [key], {});\n",
              "        if (!dataTable) return;\n",
              "\n",
              "        const docLinkHtml = 'Like what you see? Visit the ' +\n",
              "          '<a target=\"_blank\" href=https://colab.research.google.com/notebooks/data_table.ipynb>data table notebook</a>'\n",
              "          + ' to learn more about interactive tables.';\n",
              "        element.innerHTML = '';\n",
              "        dataTable['output_type'] = 'display_data';\n",
              "        await google.colab.output.renderOutput(dataTable, element);\n",
              "        const docLink = document.createElement('div');\n",
              "        docLink.innerHTML = docLinkHtml;\n",
              "        element.appendChild(docLink);\n",
              "      }\n",
              "    </script>\n",
              "  </div>\n",
              "\n",
              "\n",
              "    <div id=\"df-603f651b-0a9a-41eb-9f2b-b39fde111368\">\n",
              "      <button class=\"colab-df-quickchart\" onclick=\"quickchart('df-603f651b-0a9a-41eb-9f2b-b39fde111368')\"\n",
              "                title=\"Suggest charts\"\n",
              "                style=\"display:none;\">\n",
              "\n",
              "<svg xmlns=\"http://www.w3.org/2000/svg\" height=\"24px\"viewBox=\"0 0 24 24\"\n",
              "     width=\"24px\">\n",
              "    <g>\n",
              "        <path d=\"M19 3H5c-1.1 0-2 .9-2 2v14c0 1.1.9 2 2 2h14c1.1 0 2-.9 2-2V5c0-1.1-.9-2-2-2zM9 17H7v-7h2v7zm4 0h-2V7h2v10zm4 0h-2v-4h2v4z\"/>\n",
              "    </g>\n",
              "</svg>\n",
              "      </button>\n",
              "\n",
              "<style>\n",
              "  .colab-df-quickchart {\n",
              "      --bg-color: #E8F0FE;\n",
              "      --fill-color: #1967D2;\n",
              "      --hover-bg-color: #E2EBFA;\n",
              "      --hover-fill-color: #174EA6;\n",
              "      --disabled-fill-color: #AAA;\n",
              "      --disabled-bg-color: #DDD;\n",
              "  }\n",
              "\n",
              "  [theme=dark] .colab-df-quickchart {\n",
              "      --bg-color: #3B4455;\n",
              "      --fill-color: #D2E3FC;\n",
              "      --hover-bg-color: #434B5C;\n",
              "      --hover-fill-color: #FFFFFF;\n",
              "      --disabled-bg-color: #3B4455;\n",
              "      --disabled-fill-color: #666;\n",
              "  }\n",
              "\n",
              "  .colab-df-quickchart {\n",
              "    background-color: var(--bg-color);\n",
              "    border: none;\n",
              "    border-radius: 50%;\n",
              "    cursor: pointer;\n",
              "    display: none;\n",
              "    fill: var(--fill-color);\n",
              "    height: 32px;\n",
              "    padding: 0;\n",
              "    width: 32px;\n",
              "  }\n",
              "\n",
              "  .colab-df-quickchart:hover {\n",
              "    background-color: var(--hover-bg-color);\n",
              "    box-shadow: 0 1px 2px rgba(60, 64, 67, 0.3), 0 1px 3px 1px rgba(60, 64, 67, 0.15);\n",
              "    fill: var(--button-hover-fill-color);\n",
              "  }\n",
              "\n",
              "  .colab-df-quickchart-complete:disabled,\n",
              "  .colab-df-quickchart-complete:disabled:hover {\n",
              "    background-color: var(--disabled-bg-color);\n",
              "    fill: var(--disabled-fill-color);\n",
              "    box-shadow: none;\n",
              "  }\n",
              "\n",
              "  .colab-df-spinner {\n",
              "    border: 2px solid var(--fill-color);\n",
              "    border-color: transparent;\n",
              "    border-bottom-color: var(--fill-color);\n",
              "    animation:\n",
              "      spin 1s steps(1) infinite;\n",
              "  }\n",
              "\n",
              "  @keyframes spin {\n",
              "    0% {\n",
              "      border-color: transparent;\n",
              "      border-bottom-color: var(--fill-color);\n",
              "      border-left-color: var(--fill-color);\n",
              "    }\n",
              "    20% {\n",
              "      border-color: transparent;\n",
              "      border-left-color: var(--fill-color);\n",
              "      border-top-color: var(--fill-color);\n",
              "    }\n",
              "    30% {\n",
              "      border-color: transparent;\n",
              "      border-left-color: var(--fill-color);\n",
              "      border-top-color: var(--fill-color);\n",
              "      border-right-color: var(--fill-color);\n",
              "    }\n",
              "    40% {\n",
              "      border-color: transparent;\n",
              "      border-right-color: var(--fill-color);\n",
              "      border-top-color: var(--fill-color);\n",
              "    }\n",
              "    60% {\n",
              "      border-color: transparent;\n",
              "      border-right-color: var(--fill-color);\n",
              "    }\n",
              "    80% {\n",
              "      border-color: transparent;\n",
              "      border-right-color: var(--fill-color);\n",
              "      border-bottom-color: var(--fill-color);\n",
              "    }\n",
              "    90% {\n",
              "      border-color: transparent;\n",
              "      border-bottom-color: var(--fill-color);\n",
              "    }\n",
              "  }\n",
              "</style>\n",
              "\n",
              "      <script>\n",
              "        async function quickchart(key) {\n",
              "          const quickchartButtonEl =\n",
              "            document.querySelector('#' + key + ' button');\n",
              "          quickchartButtonEl.disabled = true;  // To prevent multiple clicks.\n",
              "          quickchartButtonEl.classList.add('colab-df-spinner');\n",
              "          try {\n",
              "            const charts = await google.colab.kernel.invokeFunction(\n",
              "                'suggestCharts', [key], {});\n",
              "          } catch (error) {\n",
              "            console.error('Error during call to suggestCharts:', error);\n",
              "          }\n",
              "          quickchartButtonEl.classList.remove('colab-df-spinner');\n",
              "          quickchartButtonEl.classList.add('colab-df-quickchart-complete');\n",
              "        }\n",
              "        (() => {\n",
              "          let quickchartButtonEl =\n",
              "            document.querySelector('#df-603f651b-0a9a-41eb-9f2b-b39fde111368 button');\n",
              "          quickchartButtonEl.style.display =\n",
              "            google.colab.kernel.accessAllowed ? 'block' : 'none';\n",
              "        })();\n",
              "      </script>\n",
              "    </div>\n",
              "\n",
              "    </div>\n",
              "  </div>\n"
            ],
            "application/vnd.google.colaboratory.intrinsic+json": {
              "type": "dataframe"
            }
          },
          "metadata": {},
          "execution_count": 18
        }
      ],
      "source": [
        "# Now encode the feature vector\n",
        "import pandas as pd\n",
        "import numpy as np\n",
        "\n",
        "\n",
        "encode_numeric_zscore(df, 'Flow Duration')\n",
        "encode_numeric_zscore(df, 'Total Fwd Packets')\n",
        "encode_numeric_zscore(df, 'Total Backward Packets')\n",
        "encode_numeric_zscore(df, 'Fwd Packet Length Max')\n",
        "encode_numeric_zscore(df, 'Fwd Packet Length Min')\n",
        "encode_numeric_zscore(df, 'Fwd Packet Length Mean')\n",
        "encode_numeric_zscore(df, 'Fwd Packet Length Std')\n",
        "encode_numeric_zscore(df, 'Fwd IAT Total')\n",
        "encode_numeric_zscore(df, 'Fwd IAT Mean')\n",
        "encode_numeric_zscore(df, 'Fwd IAT Std')\n",
        "encode_numeric_zscore(df, 'Fwd IAT Max')\n",
        "encode_numeric_zscore(df, 'Fwd IAT Min')\n",
        "encode_numeric_zscore(df, 'Bwd IAT Total')\n",
        "encode_numeric_zscore(df, 'Bwd IAT Mean')\n",
        "encode_numeric_zscore(df, 'Bwd IAT Std')\n",
        "encode_numeric_zscore(df, 'Fwd Packets/s')\n",
        "encode_numeric_zscore(df, 'Bwd Packets/s')\n",
        "encode_numeric_zscore(df, 'Packet Length Max')\n",
        "encode_numeric_zscore(df, 'Packet Length Min')\n",
        "encode_numeric_zscore(df, 'Packet Length Mean')\n",
        "encode_numeric_zscore(df, 'Packet Length Std')\n",
        "encode_numeric_zscore(df, 'Packet Length Variance')\n",
        "encode_numeric_zscore(df, 'FIN Flag Count')\n",
        "encode_numeric_zscore(df, 'SYN Flag Count')\n",
        "encode_numeric_zscore(df, 'RST Flag Count')\n",
        "encode_numeric_zscore(df, 'ACK Flag Count')\n",
        "encode_numeric_zscore(df, 'URG Flag Count')\n",
        "encode_numeric_zscore(df, 'CWE Flag Count')\n",
        "encode_numeric_zscore(df, 'ECE Flag Count')\n",
        "encode_numeric_zscore(df, 'Down/Up Ratio')\n",
        "encode_numeric_zscore(df, 'Avg Packet Size')\n",
        "encode_numeric_zscore(df, 'Avg Fwd Segment Size')\n",
        "encode_numeric_zscore(df, 'Avg Bwd Segment Size')\n",
        "\n",
        "\n",
        "\n",
        "# display 5 rows\n",
        "\n",
        "df.dropna(inplace=True,axis=1)\n",
        "df[0:5]\n",
        "# This is the numeric feature vector, as it goes to the neural network"
      ]
    },
    {
      "cell_type": "code",
      "execution_count": null,
      "metadata": {
        "colab": {
          "base_uri": "https://localhost:8080/"
        },
        "id": "pNigAvcucVtY",
        "outputId": "79aef696-8f0b-421c-a8ec-cc532a491b10"
      },
      "outputs": [
        {
          "output_type": "stream",
          "name": "stdout",
          "text": [
            "Shape of Feature Matrix (X): (334349, 75)\n",
            "Shape of Target Vector (y): (334349,)\n",
            "Unique values in target vector (y): [0 1]\n"
          ]
        }
      ],
      "source": [
        "# Convert to numpy - Classification\n",
        "\n",
        "# Prepare the feature matrix (X)\n",
        "# Drop only the 'Label' column\n",
        "X = df.drop(['Label'], axis=1, errors='ignore').values\n",
        "print(\"Shape of Feature Matrix (X):\", X.shape)\n",
        "\n",
        "# Prepare the target vector (y)\n",
        "y = df['Label_Encoded'].values\n",
        "print(\"Shape of Target Vector (y):\", y.shape)\n",
        "\n",
        "# verify the unique values in your target vector:\n",
        "print(\"Unique values in target vector (y):\", np.unique(y))"
      ]
    },
    {
      "cell_type": "code",
      "execution_count": null,
      "metadata": {
        "colab": {
          "base_uri": "https://localhost:8080/",
          "height": 178
        },
        "id": "Pz8n3shMcsgN",
        "outputId": "05f5b167-e56f-462c-beb6-0e6acd87a213"
      },
      "outputs": [
        {
          "output_type": "execute_result",
          "data": {
            "text/plain": [
              "Label\n",
              "Attack    321759\n",
              "Normal     12590\n",
              "Name: Label, dtype: int64"
            ],
            "text/html": [
              "<div>\n",
              "<style scoped>\n",
              "    .dataframe tbody tr th:only-of-type {\n",
              "        vertical-align: middle;\n",
              "    }\n",
              "\n",
              "    .dataframe tbody tr th {\n",
              "        vertical-align: top;\n",
              "    }\n",
              "\n",
              "    .dataframe thead th {\n",
              "        text-align: right;\n",
              "    }\n",
              "</style>\n",
              "<table border=\"1\" class=\"dataframe\">\n",
              "  <thead>\n",
              "    <tr style=\"text-align: right;\">\n",
              "      <th></th>\n",
              "      <th>Label</th>\n",
              "    </tr>\n",
              "    <tr>\n",
              "      <th>Label</th>\n",
              "      <th></th>\n",
              "    </tr>\n",
              "  </thead>\n",
              "  <tbody>\n",
              "    <tr>\n",
              "      <th>Attack</th>\n",
              "      <td>321759</td>\n",
              "    </tr>\n",
              "    <tr>\n",
              "      <th>Normal</th>\n",
              "      <td>12590</td>\n",
              "    </tr>\n",
              "  </tbody>\n",
              "</table>\n",
              "</div><br><label><b>dtype:</b> int64</label>"
            ]
          },
          "metadata": {},
          "execution_count": 20
        }
      ],
      "source": [
        "df.groupby('Label')['Label'].count()"
      ]
    },
    {
      "cell_type": "code",
      "source": [
        "from sklearn.model_selection import train_test_split\n",
        "\n",
        "X_train, X_test, y_train, y_test = train_test_split(X, y, test_size=0.25, random_state=42, stratify=y)\n",
        "\n",
        "print(\"Shape of X_train:\", X_train.shape)\n",
        "print(\"Shape of X_test:\", X_test.shape)\n",
        "print(\"Shape of y_train:\", y_train.shape)\n",
        "print(\"Shape of y_test:\", y_test.shape)"
      ],
      "metadata": {
        "colab": {
          "base_uri": "https://localhost:8080/"
        },
        "id": "X66k22XMDloK",
        "outputId": "4ba0ba10-c89e-4683-f3b7-fe15612fbe55"
      },
      "execution_count": null,
      "outputs": [
        {
          "output_type": "stream",
          "name": "stdout",
          "text": [
            "Shape of X_train: (250761, 75)\n",
            "Shape of X_test: (83588, 75)\n",
            "Shape of y_train: (250761,)\n",
            "Shape of y_test: (83588,)\n"
          ]
        }
      ]
    },
    {
      "cell_type": "code",
      "source": [
        "pd.Series(y_train).nunique()"
      ],
      "metadata": {
        "colab": {
          "base_uri": "https://localhost:8080/"
        },
        "id": "PHgMJnnPRLss",
        "outputId": "8bb6df3e-b059-4023-9558-bdfab2f6c323"
      },
      "execution_count": null,
      "outputs": [
        {
          "output_type": "execute_result",
          "data": {
            "text/plain": [
              "2"
            ]
          },
          "metadata": {},
          "execution_count": 22
        }
      ]
    },
    {
      "cell_type": "code",
      "source": [
        "from imblearn.over_sampling import SMOTE\n",
        "\n",
        "smote = SMOTE(random_state=42)\n",
        "X_train_resampled, y_train_resampled = smote.fit_resample(X_train, y_train)\n",
        "\n",
        "print(\"Shape of X_train before SMOTE:\", X_train.shape)\n",
        "print(\"Shape of y_train before SMOTE:\", y_train.shape)\n",
        "print(\"Shape of X_train after SMOTE:\", X_train_resampled.shape)\n",
        "print(\"Shape of y_train after SMOTE:\", y_train_resampled.shape)\n",
        "\n",
        "#X_train_resampled and y_train_resampled will be used to train the model"
      ],
      "metadata": {
        "colab": {
          "base_uri": "https://localhost:8080/"
        },
        "id": "seN0bmFuDrBy",
        "outputId": "731e1cdb-3cb9-4d9e-8425-696b5ddaa4b6"
      },
      "execution_count": null,
      "outputs": [
        {
          "output_type": "stream",
          "name": "stdout",
          "text": [
            "Shape of X_train before SMOTE: (250761, 75)\n",
            "Shape of y_train before SMOTE: (250761,)\n",
            "Shape of X_train after SMOTE: (482638, 75)\n",
            "Shape of y_train after SMOTE: (482638,)\n"
          ]
        }
      ]
    },
    {
      "cell_type": "code",
      "source": [
        "from sklearn.utils import class_weight\n",
        "import numpy as np\n",
        "\n",
        "# Calculate class weights from the resampled data\n",
        "weights = class_weight.compute_class_weight(class_weight='balanced',\n",
        "                                             classes=np.unique(y_train_resampled),\n",
        "                                             y=y_train_resampled)\n",
        "\n",
        "class_weights = dict(enumerate(weights))\n",
        "class_weights[0] = class_weights[0] * 2\n",
        "print(\"Class Weights:\", class_weights)\n"
      ],
      "metadata": {
        "colab": {
          "base_uri": "https://localhost:8080/"
        },
        "id": "04wJj_eVnmQ0",
        "outputId": "960d64b9-9009-49dd-b600-4a3505c65cb2"
      },
      "execution_count": null,
      "outputs": [
        {
          "output_type": "stream",
          "name": "stdout",
          "text": [
            "Class Weights: {0: np.float64(2.0), 1: np.float64(1.0)}\n"
          ]
        }
      ]
    },
    {
      "cell_type": "code",
      "source": [
        "pd.Series(y_train_resampled).value_counts()"
      ],
      "metadata": {
        "colab": {
          "base_uri": "https://localhost:8080/",
          "height": 146
        },
        "id": "ZmMx7_1xQEcB",
        "outputId": "4b1384c8-6bbb-4d68-bb69-933d59215d0d"
      },
      "execution_count": null,
      "outputs": [
        {
          "output_type": "execute_result",
          "data": {
            "text/plain": [
              "0    241319\n",
              "1    241319\n",
              "Name: count, dtype: int64"
            ],
            "text/html": [
              "<div>\n",
              "<style scoped>\n",
              "    .dataframe tbody tr th:only-of-type {\n",
              "        vertical-align: middle;\n",
              "    }\n",
              "\n",
              "    .dataframe tbody tr th {\n",
              "        vertical-align: top;\n",
              "    }\n",
              "\n",
              "    .dataframe thead th {\n",
              "        text-align: right;\n",
              "    }\n",
              "</style>\n",
              "<table border=\"1\" class=\"dataframe\">\n",
              "  <thead>\n",
              "    <tr style=\"text-align: right;\">\n",
              "      <th></th>\n",
              "      <th>count</th>\n",
              "    </tr>\n",
              "  </thead>\n",
              "  <tbody>\n",
              "    <tr>\n",
              "      <th>0</th>\n",
              "      <td>241319</td>\n",
              "    </tr>\n",
              "    <tr>\n",
              "      <th>1</th>\n",
              "      <td>241319</td>\n",
              "    </tr>\n",
              "  </tbody>\n",
              "</table>\n",
              "</div><br><label><b>dtype:</b> int64</label>"
            ]
          },
          "metadata": {},
          "execution_count": 25
        }
      ]
    },
    {
      "cell_type": "code",
      "source": [
        "from sklearn.preprocessing import StandardScaler\n",
        "\n",
        "scaler = StandardScaler()\n",
        "X_train_scaled = scaler.fit_transform(X_train)\n",
        "X_test_scaled = scaler.transform(X_test)\n",
        "\n",
        "print(\"Shape of Scaled X_train:\", X_train_scaled.shape)\n",
        "print(\"Shape of Scaled X_test:\", X_test_scaled.shape)"
      ],
      "metadata": {
        "colab": {
          "base_uri": "https://localhost:8080/"
        },
        "id": "ks5rME-BNfxQ",
        "outputId": "9ab4cb78-35b1-47d5-e99b-8f3fb410364a"
      },
      "execution_count": null,
      "outputs": [
        {
          "output_type": "stream",
          "name": "stdout",
          "text": [
            "Shape of Scaled X_train: (250761, 75)\n",
            "Shape of Scaled X_test: (83588, 75)\n"
          ]
        }
      ]
    },
    {
      "cell_type": "code",
      "source": [
        "\n",
        "X_train_resampled_reshaped = X_train_resampled.reshape(X_train_resampled.shape[0], X_train_resampled.shape[1], 1)\n",
        "\n",
        "print(\"Shape of X_train_resampled_reshaped:\", X_train_resampled_reshaped.shape)"
      ],
      "metadata": {
        "colab": {
          "base_uri": "https://localhost:8080/"
        },
        "id": "VTe-sk3dEFrA",
        "outputId": "5f4d241b-e8a9-4334-88ed-83df18bf316c"
      },
      "execution_count": null,
      "outputs": [
        {
          "output_type": "stream",
          "name": "stdout",
          "text": [
            "Shape of X_train_resampled_reshaped: (482638, 75, 1)\n"
          ]
        }
      ]
    },
    {
      "cell_type": "code",
      "source": [
        "X_test_reshaped = X_test.reshape(X_test.shape[0], X_test.shape[1], 1)\n",
        "\n",
        "print(\"Shape of X_test_reshaped:\", X_test_reshaped.shape)"
      ],
      "metadata": {
        "colab": {
          "base_uri": "https://localhost:8080/"
        },
        "id": "pUG63wWrF_VB",
        "outputId": "ae8ca7e1-7e05-49ec-e7d6-25a9cce7a382"
      },
      "execution_count": null,
      "outputs": [
        {
          "output_type": "stream",
          "name": "stdout",
          "text": [
            "Shape of X_test_reshaped: (83588, 75, 1)\n"
          ]
        }
      ]
    },
    {
      "cell_type": "code",
      "source": [
        "from tensorflow.keras.utils import to_categorical\n",
        "\n",
        "# Check the number of unique classes in your y variables\n",
        "num_classes = len(np.unique(y_train_resampled))\n",
        "\n",
        "y_train_resampled_encoded = to_categorical(y_train_resampled, num_classes=num_classes)\n",
        "y_test_encoded = to_categorical(y_test, num_classes=num_classes)\n",
        "\n",
        "print(\"Shape of y_train_resampled_encoded:\", y_train_resampled_encoded.shape)\n",
        "print(\"Shape of y_test_encoded:\", y_test_encoded.shape)"
      ],
      "metadata": {
        "colab": {
          "base_uri": "https://localhost:8080/"
        },
        "id": "cebMYCFaGBky",
        "outputId": "d44e990a-8b1f-4c38-c22c-352038ff69ca"
      },
      "execution_count": null,
      "outputs": [
        {
          "output_type": "stream",
          "name": "stdout",
          "text": [
            "Shape of y_train_resampled_encoded: (482638, 2)\n",
            "Shape of y_test_encoded: (83588, 2)\n"
          ]
        }
      ]
    },
    {
      "cell_type": "code",
      "source": [
        "print(\"Shape of X_train_resampled_reshaped before fit:\", X_train_resampled_reshaped.shape)\n",
        "print(\"Shape of X_test_reshaped before fit:\", X_test_reshaped.shape)\n",
        "print(\"Shape of y_train_resampled before fit:\", y_train_resampled.shape)\n",
        "print(\"Shape of y_test before fit:\", y_test.shape)"
      ],
      "metadata": {
        "colab": {
          "base_uri": "https://localhost:8080/"
        },
        "id": "C_Tjq8YhQ21I",
        "outputId": "9aa56f76-3b38-474f-d053-de53bd1d530b"
      },
      "execution_count": null,
      "outputs": [
        {
          "output_type": "stream",
          "name": "stdout",
          "text": [
            "Shape of X_train_resampled_reshaped before fit: (482638, 75, 1)\n",
            "Shape of X_test_reshaped before fit: (83588, 75, 1)\n",
            "Shape of y_train_resampled before fit: (482638,)\n",
            "Shape of y_test before fit: (83588,)\n"
          ]
        }
      ]
    },
    {
      "cell_type": "code",
      "source": [
        "import pandas as pd\n",
        "original_class_counts = pd.Series(y_train).value_counts()\n",
        "print(\"Original Class Counts in y_train:\\n\", original_class_counts)"
      ],
      "metadata": {
        "colab": {
          "base_uri": "https://localhost:8080/"
        },
        "id": "pYd33HVRdEZ1",
        "outputId": "b0147d58-500d-4a35-bc7d-61e88685ff46"
      },
      "execution_count": null,
      "outputs": [
        {
          "output_type": "stream",
          "name": "stdout",
          "text": [
            "Original Class Counts in y_train:\n",
            " 0    241319\n",
            "1      9442\n",
            "Name: count, dtype: int64\n"
          ]
        }
      ]
    },
    {
      "cell_type": "markdown",
      "metadata": {
        "id": "YlTAHwIZdUgC"
      },
      "source": [
        "training the neural network"
      ]
    },
    {
      "cell_type": "code",
      "source": [
        "from tensorflow.keras.models import Sequential\n",
        "from tensorflow.keras.layers import Conv1D, MaxPooling1D, Flatten, Dense, Dropout\n",
        "from tensorflow.keras.optimizers import Adam\n",
        "from tensorflow.keras.callbacks import EarlyStopping\n",
        "from sklearn.utils import class_weight\n",
        "\n",
        "def create_CNN_model(input_shape):\n",
        "    model = Sequential()\n",
        "    # First Conv1D layer\n",
        "    model.add(Conv1D(filters=128, kernel_size=5, activation='relu', input_shape=input_shape))\n",
        "    model.add(MaxPooling1D(pool_size=2))\n",
        "    model.add(Dropout(0.3))\n",
        "    # Second Conv1D layer\n",
        "    model.add(Conv1D(filters=256, kernel_size=5, activation='relu'))\n",
        "    model.add(MaxPooling1D(pool_size=2))\n",
        "    model.add(Dropout(0.3))\n",
        "    # Flatten layer\n",
        "    model.add(Flatten())\n",
        "    # Dense layers\n",
        "    model.add(Dense(256, activation='relu'))\n",
        "    model.add(Dropout(0.5))\n",
        "\n",
        "    model.add(Dense(128, activation='relu'))\n",
        "    model.add(Dropout(0.5))\n",
        "  # Output layer for binary classification\n",
        "    model.add(Dense(1, activation='sigmoid'))\n",
        "\n",
        "    return model\n",
        "\n",
        "\n",
        "# Get the input shape\n",
        "input_shape = (X_train_resampled_reshaped.shape[1], 1)\n",
        "# Create the enhanced model\n",
        "CNN_model = create_CNN_model(input_shape)\n",
        "# Compile the model\n",
        "optimizer = Adam(learning_rate=0.0001)\n",
        "CNN_model.compile(loss='binary_crossentropy', optimizer=optimizer, metrics=['accuracy', 'AUC'])\n",
        "# Define early stopping\n",
        "early_stopping = EarlyStopping(monitor='val_loss', patience=15, restore_best_weights=True)\n",
        "\n",
        "\n",
        "# Train the enhanced model with class weights\n",
        "CNN_model = CNN_model.fit(\n",
        "    X_train_resampled_reshaped, y_train_resampled,\n",
        "    validation_data=(X_test_reshaped, y_test),\n",
        "    epochs=20,\n",
        "    batch_size=32,\n",
        "    callbacks=[early_stopping],\n",
        "    class_weight=class_weights\n",
        ")\n"
      ],
      "metadata": {
        "colab": {
          "base_uri": "https://localhost:8080/"
        },
        "id": "nlGTfTJeR_wS",
        "outputId": "25e52a72-bd75-4ee5-d46e-dedb0b73d642"
      },
      "execution_count": null,
      "outputs": [
        {
          "output_type": "stream",
          "name": "stderr",
          "text": [
            "/usr/local/lib/python3.11/dist-packages/keras/src/layers/convolutional/base_conv.py:107: UserWarning: Do not pass an `input_shape`/`input_dim` argument to a layer. When using Sequential models, prefer using an `Input(shape)` object as the first layer in the model instead.\n",
            "  super().__init__(activity_regularizer=activity_regularizer, **kwargs)\n"
          ]
        },
        {
          "output_type": "stream",
          "name": "stdout",
          "text": [
            "Epoch 1/20\n",
            "\u001b[1m15083/15083\u001b[0m \u001b[32m━━━━━━━━━━━━━━━━━━━━\u001b[0m\u001b[37m\u001b[0m \u001b[1m62s\u001b[0m 4ms/step - AUC: 0.7111 - accuracy: 0.6884 - loss: 16624.3379 - val_AUC: 0.7517 - val_accuracy: 0.9648 - val_loss: 0.6550\n",
            "Epoch 2/20\n",
            "\u001b[1m15083/15083\u001b[0m \u001b[32m━━━━━━━━━━━━━━━━━━━━\u001b[0m\u001b[37m\u001b[0m \u001b[1m50s\u001b[0m 3ms/step - AUC: 0.6302 - accuracy: 0.5459 - loss: 3.9988 - val_AUC: 0.5491 - val_accuracy: 0.9658 - val_loss: 0.5854\n",
            "Epoch 3/20\n",
            "\u001b[1m15083/15083\u001b[0m \u001b[32m━━━━━━━━━━━━━━━━━━━━\u001b[0m\u001b[37m\u001b[0m \u001b[1m50s\u001b[0m 3ms/step - AUC: 0.5423 - accuracy: 0.5361 - loss: 1.5429 - val_AUC: 0.5218 - val_accuracy: 0.9638 - val_loss: 0.4291\n",
            "Epoch 4/20\n",
            "\u001b[1m15083/15083\u001b[0m \u001b[32m━━━━━━━━━━━━━━━━━━━━\u001b[0m\u001b[37m\u001b[0m \u001b[1m50s\u001b[0m 3ms/step - AUC: 0.5248 - accuracy: 0.5207 - loss: 1.8388 - val_AUC: 0.5261 - val_accuracy: 0.9641 - val_loss: 0.4325\n",
            "Epoch 5/20\n",
            "\u001b[1m15083/15083\u001b[0m \u001b[32m━━━━━━━━━━━━━━━━━━━━\u001b[0m\u001b[37m\u001b[0m \u001b[1m51s\u001b[0m 3ms/step - AUC: 0.5232 - accuracy: 0.5207 - loss: 1.1527 - val_AUC: 0.5421 - val_accuracy: 0.9653 - val_loss: 0.4753\n",
            "Epoch 6/20\n",
            "\u001b[1m15083/15083\u001b[0m \u001b[32m━━━━━━━━━━━━━━━━━━━━\u001b[0m\u001b[37m\u001b[0m \u001b[1m50s\u001b[0m 3ms/step - AUC: 0.5353 - accuracy: 0.5331 - loss: 1.1055 - val_AUC: 0.5407 - val_accuracy: 0.9654 - val_loss: 0.4089\n",
            "Epoch 7/20\n",
            "\u001b[1m15083/15083\u001b[0m \u001b[32m━━━━━━━━━━━━━━━━━━━━\u001b[0m\u001b[37m\u001b[0m \u001b[1m50s\u001b[0m 3ms/step - AUC: 0.5348 - accuracy: 0.5342 - loss: 1.1613 - val_AUC: 0.5407 - val_accuracy: 0.9654 - val_loss: 0.4107\n",
            "Epoch 8/20\n",
            "\u001b[1m15083/15083\u001b[0m \u001b[32m━━━━━━━━━━━━━━━━━━━━\u001b[0m\u001b[37m\u001b[0m \u001b[1m50s\u001b[0m 3ms/step - AUC: 0.5341 - accuracy: 0.5347 - loss: 1.0296 - val_AUC: 0.5407 - val_accuracy: 0.9654 - val_loss: 0.4061\n",
            "Epoch 9/20\n",
            "\u001b[1m15083/15083\u001b[0m \u001b[32m━━━━━━━━━━━━━━━━━━━━\u001b[0m\u001b[37m\u001b[0m \u001b[1m52s\u001b[0m 3ms/step - AUC: 0.5349 - accuracy: 0.5338 - loss: 0.9578 - val_AUC: 0.5407 - val_accuracy: 0.9654 - val_loss: 0.4066\n",
            "Epoch 10/20\n",
            "\u001b[1m15083/15083\u001b[0m \u001b[32m━━━━━━━━━━━━━━━━━━━━\u001b[0m\u001b[37m\u001b[0m \u001b[1m52s\u001b[0m 3ms/step - AUC: 0.5338 - accuracy: 0.5360 - loss: 1.6446 - val_AUC: 0.5407 - val_accuracy: 0.9654 - val_loss: 0.4084\n",
            "Epoch 11/20\n",
            "\u001b[1m15083/15083\u001b[0m \u001b[32m━━━━━━━━━━━━━━━━━━━━\u001b[0m\u001b[37m\u001b[0m \u001b[1m51s\u001b[0m 3ms/step - AUC: 0.5350 - accuracy: 0.5351 - loss: 3.7409 - val_AUC: 0.5407 - val_accuracy: 0.9654 - val_loss: 0.4092\n",
            "Epoch 12/20\n",
            "\u001b[1m15083/15083\u001b[0m \u001b[32m━━━━━━━━━━━━━━━━━━━━\u001b[0m\u001b[37m\u001b[0m \u001b[1m50s\u001b[0m 3ms/step - AUC: 0.5351 - accuracy: 0.5345 - loss: 1.2737 - val_AUC: 0.5407 - val_accuracy: 0.9654 - val_loss: 0.4068\n",
            "Epoch 13/20\n",
            "\u001b[1m15083/15083\u001b[0m \u001b[32m━━━━━━━━━━━━━━━━━━━━\u001b[0m\u001b[37m\u001b[0m \u001b[1m50s\u001b[0m 3ms/step - AUC: 0.5333 - accuracy: 0.5355 - loss: 1.8570 - val_AUC: 0.5407 - val_accuracy: 0.9654 - val_loss: 0.4077\n",
            "Epoch 14/20\n",
            "\u001b[1m15083/15083\u001b[0m \u001b[32m━━━━━━━━━━━━━━━━━━━━\u001b[0m\u001b[37m\u001b[0m \u001b[1m50s\u001b[0m 3ms/step - AUC: 0.5345 - accuracy: 0.5350 - loss: 2.4518 - val_AUC: 0.5407 - val_accuracy: 0.9654 - val_loss: 0.4055\n",
            "Epoch 15/20\n",
            "\u001b[1m15083/15083\u001b[0m \u001b[32m━━━━━━━━━━━━━━━━━━━━\u001b[0m\u001b[37m\u001b[0m \u001b[1m50s\u001b[0m 3ms/step - AUC: 0.5364 - accuracy: 0.5359 - loss: 0.9306 - val_AUC: 0.5407 - val_accuracy: 0.9654 - val_loss: 0.4077\n",
            "Epoch 16/20\n",
            "\u001b[1m15083/15083\u001b[0m \u001b[32m━━━━━━━━━━━━━━━━━━━━\u001b[0m\u001b[37m\u001b[0m \u001b[1m50s\u001b[0m 3ms/step - AUC: 0.5374 - accuracy: 0.5356 - loss: 1.9424 - val_AUC: 0.5407 - val_accuracy: 0.9654 - val_loss: 0.4076\n",
            "Epoch 17/20\n",
            "\u001b[1m15083/15083\u001b[0m \u001b[32m━━━━━━━━━━━━━━━━━━━━\u001b[0m\u001b[37m\u001b[0m \u001b[1m51s\u001b[0m 3ms/step - AUC: 0.5361 - accuracy: 0.5355 - loss: 2.5259 - val_AUC: 0.5407 - val_accuracy: 0.9654 - val_loss: 0.4075\n",
            "Epoch 18/20\n",
            "\u001b[1m15083/15083\u001b[0m \u001b[32m━━━━━━━━━━━━━━━━━━━━\u001b[0m\u001b[37m\u001b[0m \u001b[1m50s\u001b[0m 3ms/step - AUC: 0.5385 - accuracy: 0.5359 - loss: 1.1408 - val_AUC: 0.5407 - val_accuracy: 0.9654 - val_loss: 0.4078\n",
            "Epoch 19/20\n",
            "\u001b[1m15083/15083\u001b[0m \u001b[32m━━━━━━━━━━━━━━━━━━━━\u001b[0m\u001b[37m\u001b[0m \u001b[1m50s\u001b[0m 3ms/step - AUC: 0.5367 - accuracy: 0.5360 - loss: 0.9835 - val_AUC: 0.5407 - val_accuracy: 0.9654 - val_loss: 0.4053\n",
            "Epoch 20/20\n",
            "\u001b[1m15083/15083\u001b[0m \u001b[32m━━━━━━━━━━━━━━━━━━━━\u001b[0m\u001b[37m\u001b[0m \u001b[1m50s\u001b[0m 3ms/step - AUC: 0.5382 - accuracy: 0.5373 - loss: 0.9314 - val_AUC: 0.5407 - val_accuracy: 0.9654 - val_loss: 0.4055\n"
          ]
        }
      ]
    },
    {
      "cell_type": "code",
      "source": [
        "from sklearn.metrics import classification_report, confusion_matrix, accuracy_score, precision_score, recall_score, f1_score\n",
        "import seaborn as sns\n",
        "import matplotlib.pyplot as plt\n",
        "# Make predictions on the test data\n",
        "y_pred_probs = CNN_model.model.predict(X_test_reshaped)\n",
        "y_pred = (y_pred_probs > 0.5).astype(int)\n",
        "\n",
        "# Overall Metrics\n",
        "accuracy = accuracy_score(y_test, y_pred)\n",
        "precision = precision_score(y_test, y_pred, average='macro')\n",
        "recall = recall_score(y_test, y_pred, average='macro')\n",
        "f1 = f1_score(y_test, y_pred, average='macro')\n",
        "\n",
        "print(\"\\nOverall Metrics:\")\n",
        "print(f\"Accuracy: {accuracy:.4f}\")\n",
        "print(f\"Precision: {precision:.4f}\")\n",
        "print(f\"Recall: {recall:.4f}\")\n",
        "print(f\"F1-Score: {f1:.4f}\")\n",
        "\n",
        "# Classification Report (per-class)\n",
        "print(\"\\nClassification Report (Per-Class):\")\n",
        "from sklearn.metrics import classification_report\n",
        "# Generate classification report with class names\n",
        "report = classification_report(y_test, y_pred, target_names=['Attack', 'Normal'])\n",
        "print(report)"
      ],
      "metadata": {
        "colab": {
          "base_uri": "https://localhost:8080/"
        },
        "id": "Zl1Y2MEENnOV",
        "outputId": "1ae51139-f35a-4276-8724-6e897ad92fbd"
      },
      "execution_count": null,
      "outputs": [
        {
          "output_type": "stream",
          "name": "stdout",
          "text": [
            "\u001b[1m2613/2613\u001b[0m \u001b[32m━━━━━━━━━━━━━━━━━━━━\u001b[0m\u001b[37m\u001b[0m \u001b[1m4s\u001b[0m 1ms/step\n",
            "\n",
            "Overall Metrics:\n",
            "Accuracy: 0.9654\n",
            "Precision: 0.9826\n",
            "Recall: 0.5407\n",
            "F1-Score: 0.5664\n",
            "\n",
            "Classification Report (Per-Class):\n",
            "              precision    recall  f1-score   support\n",
            "\n",
            "      Attack       0.97      1.00      0.98     80440\n",
            "      Normal       1.00      0.08      0.15      3148\n",
            "\n",
            "    accuracy                           0.97     83588\n",
            "   macro avg       0.98      0.54      0.57     83588\n",
            "weighted avg       0.97      0.97      0.95     83588\n",
            "\n"
          ]
        }
      ]
    },
    {
      "cell_type": "code",
      "source": [
        "from sklearn.metrics import confusion_matrix, ConfusionMatrixDisplay\n",
        "\n",
        "# Predict the test set using CNN_model.model\n",
        "y_pred_probs = CNN_model.model.predict(X_test_reshaped)  # Changed to CNN_model.model\n",
        "y_pred = (y_pred_probs > 0.5).astype(int).flatten()\n",
        "\n",
        "# Create the confusion matrix\n",
        "cm = confusion_matrix(y_test, y_pred)\n",
        "\n",
        "# Display the confusion matrix\n",
        "disp = ConfusionMatrixDisplay(confusion_matrix=cm, display_labels=['Attack', 'Normal'])\n",
        "disp.plot(cmap='Blues')\n",
        "plt.title(\"Confusion Matrix\")\n",
        "plt.show()\n"
      ],
      "metadata": {
        "colab": {
          "base_uri": "https://localhost:8080/",
          "height": 489
        },
        "id": "HEoRopaDoAoz",
        "outputId": "13c52765-d2de-4b49-d72a-4aeb7b9aa4ab"
      },
      "execution_count": null,
      "outputs": [
        {
          "output_type": "stream",
          "name": "stdout",
          "text": [
            "\u001b[1m2613/2613\u001b[0m \u001b[32m━━━━━━━━━━━━━━━━━━━━\u001b[0m\u001b[37m\u001b[0m \u001b[1m3s\u001b[0m 1ms/step\n"
          ]
        },
        {
          "output_type": "display_data",
          "data": {
            "text/plain": [
              "<Figure size 640x480 with 2 Axes>"
            ],
            "image/png": "[encoded data removed]"
          },
          "metadata": {}
        }
      ]
    },
    {
      "cell_type": "code",
      "execution_count": null,
      "metadata": {
        "colab": {
          "base_uri": "https://localhost:8080/",
          "height": 581
        },
        "id": "3k57enkOGmkH",
        "outputId": "20794a03-1c91-4d33-e07d-c4917bb26ff9"
      },
      "outputs": [
        {
          "output_type": "stream",
          "name": "stdout",
          "text": [
            "Learning Rate - \n",
            "1e-04\n",
            "==================================================\n"
          ]
        },
        {
          "output_type": "display_data",
          "data": {
            "text/plain": [
              "\u001b[1mModel: \"sequential\"\u001b[0m\n"
            ],
            "text/html": [
              "<pre style=\"white-space:pre;overflow-x:auto;line-height:normal;font-family:Menlo,'DejaVu Sans Mono',consolas,'Courier New',monospace\"><span style=\"font-weight: bold\">Model: \"sequential\"</span>\n",
              "</pre>\n"
            ]
          },
          "metadata": {}
        },
        {
          "output_type": "display_data",
          "data": {
            "text/plain": [
              "┏━━━━━━━━━━━━━━━━━━━━━━━━━━━━━━━━━┳━━━━━━━━━━━━━━━━━━━━━━━━┳━━━━━━━━━━━━━━━┓\n",
              "┃\u001b[1m \u001b[0m\u001b[1mLayer (type)                   \u001b[0m\u001b[1m \u001b[0m┃\u001b[1m \u001b[0m\u001b[1mOutput Shape          \u001b[0m\u001b[1m \u001b[0m┃\u001b[1m \u001b[0m\u001b[1m      Param #\u001b[0m\u001b[1m \u001b[0m┃\n",
              "┡━━━━━━━━━━━━━━━━━━━━━━━━━━━━━━━━━╇━━━━━━━━━━━━━━━━━━━━━━━━╇━━━━━━━━━━━━━━━┩\n",
              "│ conv1d (\u001b[38;5;33mConv1D\u001b[0m)                 │ (\u001b[38;5;45mNone\u001b[0m, \u001b[38;5;34m71\u001b[0m, \u001b[38;5;34m128\u001b[0m)        │           \u001b[38;5;34m768\u001b[0m │\n",
              "├─────────────────────────────────┼────────────────────────┼───────────────┤\n",
              "│ max_pooling1d (\u001b[38;5;33mMaxPooling1D\u001b[0m)    │ (\u001b[38;5;45mNone\u001b[0m, \u001b[38;5;34m35\u001b[0m, \u001b[38;5;34m128\u001b[0m)        │             \u001b[38;5;34m0\u001b[0m │\n",
              "├─────────────────────────────────┼────────────────────────┼───────────────┤\n",
              "│ dropout (\u001b[38;5;33mDropout\u001b[0m)               │ (\u001b[38;5;45mNone\u001b[0m, \u001b[38;5;34m35\u001b[0m, \u001b[38;5;34m128\u001b[0m)        │             \u001b[38;5;34m0\u001b[0m │\n",
              "├─────────────────────────────────┼────────────────────────┼───────────────┤\n",
              "│ conv1d_1 (\u001b[38;5;33mConv1D\u001b[0m)               │ (\u001b[38;5;45mNone\u001b[0m, \u001b[38;5;34m31\u001b[0m, \u001b[38;5;34m256\u001b[0m)        │       \u001b[38;5;34m164,096\u001b[0m │\n",
              "├─────────────────────────────────┼────────────────────────┼───────────────┤\n",
              "│ max_pooling1d_1 (\u001b[38;5;33mMaxPooling1D\u001b[0m)  │ (\u001b[38;5;45mNone\u001b[0m, \u001b[38;5;34m15\u001b[0m, \u001b[38;5;34m256\u001b[0m)        │             \u001b[38;5;34m0\u001b[0m │\n",
              "├─────────────────────────────────┼────────────────────────┼───────────────┤\n",
              "│ dropout_1 (\u001b[38;5;33mDropout\u001b[0m)             │ (\u001b[38;5;45mNone\u001b[0m, \u001b[38;5;34m15\u001b[0m, \u001b[38;5;34m256\u001b[0m)        │             \u001b[38;5;34m0\u001b[0m │\n",
              "├─────────────────────────────────┼────────────────────────┼───────────────┤\n",
              "│ flatten (\u001b[38;5;33mFlatten\u001b[0m)               │ (\u001b[38;5;45mNone\u001b[0m, \u001b[38;5;34m3840\u001b[0m)           │             \u001b[38;5;34m0\u001b[0m │\n",
              "├─────────────────────────────────┼────────────────────────┼───────────────┤\n",
              "│ dense (\u001b[38;5;33mDense\u001b[0m)                   │ (\u001b[38;5;45mNone\u001b[0m, \u001b[38;5;34m256\u001b[0m)            │       \u001b[38;5;34m983,296\u001b[0m │\n",
              "├─────────────────────────────────┼────────────────────────┼───────────────┤\n",
              "│ dropout_2 (\u001b[38;5;33mDropout\u001b[0m)             │ (\u001b[38;5;45mNone\u001b[0m, \u001b[38;5;34m256\u001b[0m)            │             \u001b[38;5;34m0\u001b[0m │\n",
              "├─────────────────────────────────┼────────────────────────┼───────────────┤\n",
              "│ dense_1 (\u001b[38;5;33mDense\u001b[0m)                 │ (\u001b[38;5;45mNone\u001b[0m, \u001b[38;5;34m128\u001b[0m)            │        \u001b[38;5;34m32,896\u001b[0m │\n",
              "├─────────────────────────────────┼────────────────────────┼───────────────┤\n",
              "│ dropout_3 (\u001b[38;5;33mDropout\u001b[0m)             │ (\u001b[38;5;45mNone\u001b[0m, \u001b[38;5;34m128\u001b[0m)            │             \u001b[38;5;34m0\u001b[0m │\n",
              "├─────────────────────────────────┼────────────────────────┼───────────────┤\n",
              "│ dense_2 (\u001b[38;5;33mDense\u001b[0m)                 │ (\u001b[38;5;45mNone\u001b[0m, \u001b[38;5;34m1\u001b[0m)              │           \u001b[38;5;34m129\u001b[0m │\n",
              "└─────────────────────────────────┴────────────────────────┴───────────────┘\n"
            ],
            "text/html": [
              "<pre style=\"white-space:pre;overflow-x:auto;line-height:normal;font-family:Menlo,'DejaVu Sans Mono',consolas,'Courier New',monospace\">┏━━━━━━━━━━━━━━━━━━━━━━━━━━━━━━━━━┳━━━━━━━━━━━━━━━━━━━━━━━━┳━━━━━━━━━━━━━━━┓\n",
              "┃<span style=\"font-weight: bold\"> Layer (type)                    </span>┃<span style=\"font-weight: bold\"> Output Shape           </span>┃<span style=\"font-weight: bold\">       Param # </span>┃\n",
              "┡━━━━━━━━━━━━━━━━━━━━━━━━━━━━━━━━━╇━━━━━━━━━━━━━━━━━━━━━━━━╇━━━━━━━━━━━━━━━┩\n",
              "│ conv1d (<span style=\"color: #0087ff; text-decoration-color: #0087ff\">Conv1D</span>)                 │ (<span style=\"color: #00d7ff; text-decoration-color: #00d7ff\">None</span>, <span style=\"color: #00af00; text-decoration-color: #00af00\">71</span>, <span style=\"color: #00af00; text-decoration-color: #00af00\">128</span>)        │           <span style=\"color: #00af00; text-decoration-color: #00af00\">768</span> │\n",
              "├─────────────────────────────────┼────────────────────────┼───────────────┤\n",
              "│ max_pooling1d (<span style=\"color: #0087ff; text-decoration-color: #0087ff\">MaxPooling1D</span>)    │ (<span style=\"color: #00d7ff; text-decoration-color: #00d7ff\">None</span>, <span style=\"color: #00af00; text-decoration-color: #00af00\">35</span>, <span style=\"color: #00af00; text-decoration-color: #00af00\">128</span>)        │             <span style=\"color: #00af00; text-decoration-color: #00af00\">0</span> │\n",
              "├─────────────────────────────────┼────────────────────────┼───────────────┤\n",
              "│ dropout (<span style=\"color: #0087ff; text-decoration-color: #0087ff\">Dropout</span>)               │ (<span style=\"color: #00d7ff; text-decoration-color: #00d7ff\">None</span>, <span style=\"color: #00af00; text-decoration-color: #00af00\">35</span>, <span style=\"color: #00af00; text-decoration-color: #00af00\">128</span>)        │             <span style=\"color: #00af00; text-decoration-color: #00af00\">0</span> │\n",
              "├─────────────────────────────────┼────────────────────────┼───────────────┤\n",
              "│ conv1d_1 (<span style=\"color: #0087ff; text-decoration-color: #0087ff\">Conv1D</span>)               │ (<span style=\"color: #00d7ff; text-decoration-color: #00d7ff\">None</span>, <span style=\"color: #00af00; text-decoration-color: #00af00\">31</span>, <span style=\"color: #00af00; text-decoration-color: #00af00\">256</span>)        │       <span style=\"color: #00af00; text-decoration-color: #00af00\">164,096</span> │\n",
              "├─────────────────────────────────┼────────────────────────┼───────────────┤\n",
              "│ max_pooling1d_1 (<span style=\"color: #0087ff; text-decoration-color: #0087ff\">MaxPooling1D</span>)  │ (<span style=\"color: #00d7ff; text-decoration-color: #00d7ff\">None</span>, <span style=\"color: #00af00; text-decoration-color: #00af00\">15</span>, <span style=\"color: #00af00; text-decoration-color: #00af00\">256</span>)        │             <span style=\"color: #00af00; text-decoration-color: #00af00\">0</span> │\n",
              "├─────────────────────────────────┼────────────────────────┼───────────────┤\n",
              "│ dropout_1 (<span style=\"color: #0087ff; text-decoration-color: #0087ff\">Dropout</span>)             │ (<span style=\"color: #00d7ff; text-decoration-color: #00d7ff\">None</span>, <span style=\"color: #00af00; text-decoration-color: #00af00\">15</span>, <span style=\"color: #00af00; text-decoration-color: #00af00\">256</span>)        │             <span style=\"color: #00af00; text-decoration-color: #00af00\">0</span> │\n",
              "├─────────────────────────────────┼────────────────────────┼───────────────┤\n",
              "│ flatten (<span style=\"color: #0087ff; text-decoration-color: #0087ff\">Flatten</span>)               │ (<span style=\"color: #00d7ff; text-decoration-color: #00d7ff\">None</span>, <span style=\"color: #00af00; text-decoration-color: #00af00\">3840</span>)           │             <span style=\"color: #00af00; text-decoration-color: #00af00\">0</span> │\n",
              "├─────────────────────────────────┼────────────────────────┼───────────────┤\n",
              "│ dense (<span style=\"color: #0087ff; text-decoration-color: #0087ff\">Dense</span>)                   │ (<span style=\"color: #00d7ff; text-decoration-color: #00d7ff\">None</span>, <span style=\"color: #00af00; text-decoration-color: #00af00\">256</span>)            │       <span style=\"color: #00af00; text-decoration-color: #00af00\">983,296</span> │\n",
              "├─────────────────────────────────┼────────────────────────┼───────────────┤\n",
              "│ dropout_2 (<span style=\"color: #0087ff; text-decoration-color: #0087ff\">Dropout</span>)             │ (<span style=\"color: #00d7ff; text-decoration-color: #00d7ff\">None</span>, <span style=\"color: #00af00; text-decoration-color: #00af00\">256</span>)            │             <span style=\"color: #00af00; text-decoration-color: #00af00\">0</span> │\n",
              "├─────────────────────────────────┼────────────────────────┼───────────────┤\n",
              "│ dense_1 (<span style=\"color: #0087ff; text-decoration-color: #0087ff\">Dense</span>)                 │ (<span style=\"color: #00d7ff; text-decoration-color: #00d7ff\">None</span>, <span style=\"color: #00af00; text-decoration-color: #00af00\">128</span>)            │        <span style=\"color: #00af00; text-decoration-color: #00af00\">32,896</span> │\n",
              "├─────────────────────────────────┼────────────────────────┼───────────────┤\n",
              "│ dropout_3 (<span style=\"color: #0087ff; text-decoration-color: #0087ff\">Dropout</span>)             │ (<span style=\"color: #00d7ff; text-decoration-color: #00d7ff\">None</span>, <span style=\"color: #00af00; text-decoration-color: #00af00\">128</span>)            │             <span style=\"color: #00af00; text-decoration-color: #00af00\">0</span> │\n",
              "├─────────────────────────────────┼────────────────────────┼───────────────┤\n",
              "│ dense_2 (<span style=\"color: #0087ff; text-decoration-color: #0087ff\">Dense</span>)                 │ (<span style=\"color: #00d7ff; text-decoration-color: #00d7ff\">None</span>, <span style=\"color: #00af00; text-decoration-color: #00af00\">1</span>)              │           <span style=\"color: #00af00; text-decoration-color: #00af00\">129</span> │\n",
              "└─────────────────────────────────┴────────────────────────┴───────────────┘\n",
              "</pre>\n"
            ]
          },
          "metadata": {}
        },
        {
          "output_type": "display_data",
          "data": {
            "text/plain": [
              "\u001b[1m Total params: \u001b[0m\u001b[38;5;34m3,543,557\u001b[0m (13.52 MB)\n"
            ],
            "text/html": [
              "<pre style=\"white-space:pre;overflow-x:auto;line-height:normal;font-family:Menlo,'DejaVu Sans Mono',consolas,'Courier New',monospace\"><span style=\"font-weight: bold\"> Total params: </span><span style=\"color: #00af00; text-decoration-color: #00af00\">3,543,557</span> (13.52 MB)\n",
              "</pre>\n"
            ]
          },
          "metadata": {}
        },
        {
          "output_type": "display_data",
          "data": {
            "text/plain": [
              "\u001b[1m Trainable params: \u001b[0m\u001b[38;5;34m1,181,185\u001b[0m (4.51 MB)\n"
            ],
            "text/html": [
              "<pre style=\"white-space:pre;overflow-x:auto;line-height:normal;font-family:Menlo,'DejaVu Sans Mono',consolas,'Courier New',monospace\"><span style=\"font-weight: bold\"> Trainable params: </span><span style=\"color: #00af00; text-decoration-color: #00af00\">1,181,185</span> (4.51 MB)\n",
              "</pre>\n"
            ]
          },
          "metadata": {}
        },
        {
          "output_type": "display_data",
          "data": {
            "text/plain": [
              "\u001b[1m Non-trainable params: \u001b[0m\u001b[38;5;34m0\u001b[0m (0.00 B)\n"
            ],
            "text/html": [
              "<pre style=\"white-space:pre;overflow-x:auto;line-height:normal;font-family:Menlo,'DejaVu Sans Mono',consolas,'Courier New',monospace\"><span style=\"font-weight: bold\"> Non-trainable params: </span><span style=\"color: #00af00; text-decoration-color: #00af00\">0</span> (0.00 B)\n",
              "</pre>\n"
            ]
          },
          "metadata": {}
        },
        {
          "output_type": "display_data",
          "data": {
            "text/plain": [
              "\u001b[1m Optimizer params: \u001b[0m\u001b[38;5;34m2,362,372\u001b[0m (9.01 MB)\n"
            ],
            "text/html": [
              "<pre style=\"white-space:pre;overflow-x:auto;line-height:normal;font-family:Menlo,'DejaVu Sans Mono',consolas,'Courier New',monospace\"><span style=\"font-weight: bold\"> Optimizer params: </span><span style=\"color: #00af00; text-decoration-color: #00af00\">2,362,372</span> (9.01 MB)\n",
              "</pre>\n"
            ]
          },
          "metadata": {}
        }
      ],
      "source": [
        "import tensorflow.keras.backend as K\n",
        "\n",
        "# Access the optimizer from the model\n",
        "optimizer = CNN_model.model.optimizer\n",
        "\n",
        "# Get the learning rate\n",
        "learning_rate = K.eval(optimizer.learning_rate)\n",
        "\n",
        "print('Learning Rate - ')\n",
        "print(learning_rate)\n",
        "print('='*50)\n",
        "CNN_model.model.summary()"
      ]
    },
    {
      "cell_type": "code",
      "source": [
        "import tensorflow as tf\n",
        "import tarfile\n",
        "import os\n",
        "\n",
        "# Save the model with the .keras extension\n",
        "CNN_model.model.save('cnn_model.keras')\n",
        "\n",
        "# Create a tar.gz archive\n",
        "tar_file_path = 'cnn_model.tar.gz'\n",
        "with tarfile.open(tar_file_path, \"w:gz\") as tar:\n",
        "    tar.add('cnn_model.keras', arcname=os.path.basename('cnn_model.keras'))\n",
        "\n",
        "print(f\"✅ Model successfully saved as {tar_file_path}\")"
      ],
      "metadata": {
        "colab": {
          "base_uri": "https://localhost:8080/"
        },
        "id": "u_uo--BDodHk",
        "outputId": "0c94171d-5e9f-4d0f-9883-14fac438843d"
      },
      "execution_count": null,
      "outputs": [
        {
          "output_type": "stream",
          "name": "stdout",
          "text": [
            "✅ Model successfully saved as cnn_model.tar.gz\n"
          ]
        }
      ]
    },
    {
      "cell_type": "code",
      "source": [
        "from google.colab import files\n",
        "\n",
        "# Download the tar.gz file\n",
        "files.download('cnn_model.tar.gz')\n"
      ],
      "metadata": {
        "colab": {
          "base_uri": "https://localhost:8080/",
          "height": 17
        },
        "id": "6iX7sxS-pJqc",
        "outputId": "f71ba859-a1b9-457c-a358-de89df298550"
      },
      "execution_count": null,
      "outputs": [
        {
          "output_type": "display_data",
          "data": {
            "text/plain": [
              "<IPython.core.display.Javascript object>"
            ],
            "application/javascript": [
              "\n",
              "    async function download(id, filename, size) {\n",
              "      if (!google.colab.kernel.accessAllowed) {\n",
              "        return;\n",
              "      }\n",
              "      const div = document.createElement('div');\n",
              "      const label = document.createElement('label');\n",
              "      label.textContent = `Downloading \"${filename}\": `;\n",
              "      div.appendChild(label);\n",
              "      const progress = document.createElement('progress');\n",
              "      progress.max = size;\n",
              "      div.appendChild(progress);\n",
              "      document.body.appendChild(div);\n",
              "\n",
              "      const buffers = [];\n",
              "      let downloaded = 0;\n",
              "\n",
              "      const channel = await google.colab.kernel.comms.open(id);\n",
              "      // Send a message to notify the kernel that we're ready.\n",
              "      channel.send({})\n",
              "\n",
              "      for await (const message of channel.messages) {\n",
              "        // Send a message to notify the kernel that we're ready.\n",
              "        channel.send({})\n",
              "        if (message.buffers) {\n",
              "          for (const buffer of message.buffers) {\n",
              "            buffers.push(buffer);\n",
              "            downloaded += buffer.byteLength;\n",
              "            progress.value = downloaded;\n",
              "          }\n",
              "        }\n",
              "      }\n",
              "      const blob = new Blob(buffers, {type: 'application/binary'});\n",
              "      const a = document.createElement('a');\n",
              "      a.href = window.URL.createObjectURL(blob);\n",
              "      a.download = filename;\n",
              "      div.appendChild(a);\n",
              "      a.click();\n",
              "      div.remove();\n",
              "    }\n",
              "  "
            ]
          },
          "metadata": {}
        },
        {
          "output_type": "display_data",
          "data": {
            "text/plain": [
              "<IPython.core.display.Javascript object>"
            ],
            "application/javascript": [
              "download(\"download_4fbf4785-3505-4516-ab3a-918fa993f319\", \"cnn_model.tar.gz\", 6231240)"
            ]
          },
          "metadata": {}
        }
      ]
    }
  ],
  "metadata": {
    "colab": {
      "machine_shape": "hm",
      "provenance": [],
      "gpuType": "T4"
    },
    "kernelspec": {
      "display_name": "Python 3",
      "name": "python3"
    },
    "language_info": {
      "name": "python"
    },
    "accelerator": "GPU"
  },
  "nbformat": 4,
  "nbformat_minor": 0
}